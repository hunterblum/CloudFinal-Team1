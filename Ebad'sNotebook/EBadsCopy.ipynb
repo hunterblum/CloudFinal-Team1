{
 "cells": [
  {
   "cell_type": "markdown",
   "id": "d111ddbd-e9a0-4c69-96cb-cf7e91e06074",
   "metadata": {},
   "source": [
    "## Data Wrangling"
   ]
  },
  {
   "cell_type": "code",
   "execution_count": 51,
   "id": "96f9eb8e-1ccb-492b-9e76-b50ec4447cf2",
   "metadata": {
    "tags": []
   },
   "outputs": [],
   "source": [
    "import boto3\n",
    "import sagemaker\n",
    "from pyathena import connect\n",
    "import pandas as pd\n",
    "import seaborn as sns\n",
    "import matplotlib.pyplot as plt\n",
    "import scipy as sp\n",
    "import numpy as np\n",
    "from geopy.geocoders import Nominatim\n",
    "import geopandas"
   ]
  },
  {
   "cell_type": "markdown",
   "id": "45955196-914a-4fb4-befd-1c43d1d5d0a2",
   "metadata": {},
   "source": [
    "### Create and Verify Database"
   ]
  },
  {
   "cell_type": "code",
   "execution_count": 3,
   "id": "f12b05eb-f4ab-422c-ae5b-726efba009dc",
   "metadata": {
    "tags": []
   },
   "outputs": [],
   "source": [
    "# Make athena db\n",
    "sess = sagemaker.Session()\n",
    "bucket = sess.default_bucket()\n",
    "role = sagemaker.get_execution_role()\n",
    "region = boto3.Session().region_name"
   ]
  },
  {
   "cell_type": "code",
   "execution_count": 4,
   "id": "d4252b69-d932-456e-9778-3009fac27208",
   "metadata": {
    "tags": []
   },
   "outputs": [],
   "source": [
    "ingest_create_athena_db_passed = False"
   ]
  },
  {
   "cell_type": "code",
   "execution_count": 5,
   "id": "6728a524-54dd-4f1d-be6a-a2f305d9c402",
   "metadata": {
    "tags": []
   },
   "outputs": [],
   "source": [
    "# Set db name\n",
    "database_name = \"crops\""
   ]
  },
  {
   "cell_type": "code",
   "execution_count": 6,
   "id": "c01d2c66-5126-4451-bb97-f19aed31d31b",
   "metadata": {
    "tags": []
   },
   "outputs": [],
   "source": [
    "# Set S3 staging directory - temporary directory used for athena\n",
    "s3_staging_dir = \"s3://{0}/athena/staging\".format(bucket)"
   ]
  },
  {
   "cell_type": "code",
   "execution_count": 7,
   "id": "761171e0-32aa-4ca9-b11b-56dc36147dd0",
   "metadata": {
    "tags": []
   },
   "outputs": [],
   "source": [
    "conn = connect(region_name=region, s3_staging_dir=s3_staging_dir)"
   ]
  },
  {
   "cell_type": "code",
   "execution_count": 8,
   "id": "820c8234-1991-4f33-9eb7-7c54a1192d93",
   "metadata": {
    "tags": []
   },
   "outputs": [
    {
     "name": "stdout",
     "output_type": "stream",
     "text": [
      "CREATE DATABASE IF NOT EXISTS crops\n"
     ]
    },
    {
     "data": {
      "text/html": [
       "<div>\n",
       "<style scoped>\n",
       "    .dataframe tbody tr th:only-of-type {\n",
       "        vertical-align: middle;\n",
       "    }\n",
       "\n",
       "    .dataframe tbody tr th {\n",
       "        vertical-align: top;\n",
       "    }\n",
       "\n",
       "    .dataframe thead th {\n",
       "        text-align: right;\n",
       "    }\n",
       "</style>\n",
       "<table border=\"1\" class=\"dataframe\">\n",
       "  <thead>\n",
       "    <tr style=\"text-align: right;\">\n",
       "      <th></th>\n",
       "    </tr>\n",
       "  </thead>\n",
       "  <tbody>\n",
       "  </tbody>\n",
       "</table>\n",
       "</div>"
      ],
      "text/plain": [
       "Empty DataFrame\n",
       "Columns: []\n",
       "Index: []"
      ]
     },
     "execution_count": 8,
     "metadata": {},
     "output_type": "execute_result"
    }
   ],
   "source": [
    "# Create the Database\n",
    "statement = \"CREATE DATABASE IF NOT EXISTS {}\".format(database_name)\n",
    "print(statement)\n",
    "pd.read_sql(statement, conn)"
   ]
  },
  {
   "cell_type": "code",
   "execution_count": 9,
   "id": "16b20bd7-5e32-4c73-bde3-2b54e55990bb",
   "metadata": {
    "tags": []
   },
   "outputs": [
    {
     "data": {
      "text/html": [
       "<div>\n",
       "<style scoped>\n",
       "    .dataframe tbody tr th:only-of-type {\n",
       "        vertical-align: middle;\n",
       "    }\n",
       "\n",
       "    .dataframe tbody tr th {\n",
       "        vertical-align: top;\n",
       "    }\n",
       "\n",
       "    .dataframe thead th {\n",
       "        text-align: right;\n",
       "    }\n",
       "</style>\n",
       "<table border=\"1\" class=\"dataframe\">\n",
       "  <thead>\n",
       "    <tr style=\"text-align: right;\">\n",
       "      <th></th>\n",
       "      <th>database_name</th>\n",
       "    </tr>\n",
       "  </thead>\n",
       "  <tbody>\n",
       "    <tr>\n",
       "      <th>0</th>\n",
       "      <td>crops</td>\n",
       "    </tr>\n",
       "    <tr>\n",
       "      <th>1</th>\n",
       "      <td>default</td>\n",
       "    </tr>\n",
       "    <tr>\n",
       "      <th>2</th>\n",
       "      <td>sagemaker_featurestore</td>\n",
       "    </tr>\n",
       "  </tbody>\n",
       "</table>\n",
       "</div>"
      ],
      "text/plain": [
       "            database_name\n",
       "0                   crops\n",
       "1                 default\n",
       "2  sagemaker_featurestore"
      ]
     },
     "execution_count": 9,
     "metadata": {},
     "output_type": "execute_result"
    }
   ],
   "source": [
    "# Make sure it was created\n",
    "statement = \"SHOW DATABASES\"\n",
    "\n",
    "df_show = pd.read_sql(statement, conn)\n",
    "df_show.head()"
   ]
  },
  {
   "cell_type": "code",
   "execution_count": 10,
   "id": "c65e542a-0d5f-47a6-9acc-661a4f0b66bf",
   "metadata": {
    "tags": []
   },
   "outputs": [],
   "source": [
    "if database_name in df_show.values:\n",
    "    ingest_create_athena_db_passed = True"
   ]
  },
  {
   "cell_type": "markdown",
   "id": "94b5943b-4d61-417c-acf5-fec7c873c351",
   "metadata": {},
   "source": [
    "### Create Athena for Merged DB"
   ]
  },
  {
   "cell_type": "code",
   "execution_count": 11,
   "id": "af742088-fb5d-4cc7-8a11-f69b6a7a38dd",
   "metadata": {
    "tags": []
   },
   "outputs": [],
   "source": [
    "# Athena parameters\n",
    "table_name_csv = \"merged_df\"\n",
    "s3_private_path_csv = \"s3://sagemaker-studio-998234604495-nyhifbo32oo/merged/\"\n",
    "table_name_parquet = \"merged_df_parquet\"\n",
    "s3_path_parquet = \"s3://sagemaker-studio-998234604495-nyhifbo32oo/parquet/\""
   ]
  },
  {
   "cell_type": "markdown",
   "id": "80ccdcc3-5bdb-4925-9ec9-b439cc206577",
   "metadata": {},
   "source": [
    "### Add on for Views"
   ]
  },
  {
   "cell_type": "code",
   "execution_count": 52,
   "id": "0d339e8e-a082-49db-bbfb-4f15a73c83f0",
   "metadata": {
    "tags": []
   },
   "outputs": [],
   "source": [
    "from botocore.exceptions import ClientError\n",
    "\n",
    "#Create a location for Views (Change this to Hunter's Bucket that is public)\n",
    "s3_path_views = \"s3://sagemaker-us-east-1-954372485966/views/\"\n",
    "\n",
    "# Create a new boto3 Athena client\n",
    "client = boto3.client('athena')"
   ]
  },
  {
   "cell_type": "code",
   "execution_count": 53,
   "id": "f728440c-3e43-416a-a9a2-d9d9c8fdcee9",
   "metadata": {
    "tags": []
   },
   "outputs": [
    {
     "data": {
      "text/html": [
       "<div>\n",
       "<style scoped>\n",
       "    .dataframe tbody tr th:only-of-type {\n",
       "        vertical-align: middle;\n",
       "    }\n",
       "\n",
       "    .dataframe tbody tr th {\n",
       "        vertical-align: top;\n",
       "    }\n",
       "\n",
       "    .dataframe thead th {\n",
       "        text-align: right;\n",
       "    }\n",
       "</style>\n",
       "<table border=\"1\" class=\"dataframe\">\n",
       "  <thead>\n",
       "    <tr style=\"text-align: right;\">\n",
       "      <th></th>\n",
       "    </tr>\n",
       "  </thead>\n",
       "  <tbody>\n",
       "  </tbody>\n",
       "</table>\n",
       "</div>"
      ],
      "text/plain": [
       "Empty DataFrame\n",
       "Columns: []\n",
       "Index: []"
      ]
     },
     "execution_count": 53,
     "metadata": {},
     "output_type": "execute_result"
    }
   ],
   "source": [
    "# Create athena table based on merged data\n",
    "statement = \"\"\"CREATE EXTERNAL TABLE IF NOT EXISTS {}.{}(\n",
    "        Area string,\n",
    "        Item string,\n",
    "        year integer,\n",
    "        production integer,\n",
    "        nitrogen integer,\n",
    "        phosphate integer,\n",
    "        potassium integer,\n",
    "        value float,\n",
    "        avg_rain float,\n",
    "        avg_temp float,\n",
    "        total_value_usd float\n",
    "        \n",
    "        \n",
    ") ROW FORMAT DELIMITED FIELDS TERMINATED BY ',' LINES TERMINATED BY '\\\\n' LOCATION '{}'\n",
    "TBLPROPERTIES ('skip.header.line.count'='1')\"\"\".format(\n",
    "    database_name, table_name_csv, s3_private_path_csv\n",
    ")\n",
    "\n",
    "pd.read_sql(statement, conn)"
   ]
  },
  {
   "cell_type": "code",
   "execution_count": 54,
   "id": "df25f08e-c7b8-40b0-9467-c97ac76ac792",
   "metadata": {
    "tags": []
   },
   "outputs": [
    {
     "name": "stdout",
     "output_type": "stream",
     "text": [
      "SELECT * FROM crops.merged_df\n",
      "    LIMIT 5\n"
     ]
    },
    {
     "data": {
      "text/html": [
       "<div>\n",
       "<style scoped>\n",
       "    .dataframe tbody tr th:only-of-type {\n",
       "        vertical-align: middle;\n",
       "    }\n",
       "\n",
       "    .dataframe tbody tr th {\n",
       "        vertical-align: top;\n",
       "    }\n",
       "\n",
       "    .dataframe thead th {\n",
       "        text-align: right;\n",
       "    }\n",
       "</style>\n",
       "<table border=\"1\" class=\"dataframe\">\n",
       "  <thead>\n",
       "    <tr style=\"text-align: right;\">\n",
       "      <th></th>\n",
       "      <th>area</th>\n",
       "      <th>item</th>\n",
       "      <th>year</th>\n",
       "      <th>production</th>\n",
       "      <th>nitrogen</th>\n",
       "      <th>phosphate</th>\n",
       "      <th>potassium</th>\n",
       "      <th>value</th>\n",
       "      <th>avg_rain</th>\n",
       "      <th>avg_temp</th>\n",
       "      <th>total_value_usd</th>\n",
       "    </tr>\n",
       "  </thead>\n",
       "  <tbody>\n",
       "    <tr>\n",
       "      <th>0</th>\n",
       "      <td>Albania</td>\n",
       "      <td>Apples</td>\n",
       "      <td>1991</td>\n",
       "      <td>10000</td>\n",
       "      <td>22300</td>\n",
       "      <td>7700</td>\n",
       "      <td>1300</td>\n",
       "      <td>None</td>\n",
       "      <td>1485.0</td>\n",
       "      <td>15.36</td>\n",
       "      <td>None</td>\n",
       "    </tr>\n",
       "    <tr>\n",
       "      <th>1</th>\n",
       "      <td>Albania</td>\n",
       "      <td>Apricots</td>\n",
       "      <td>1991</td>\n",
       "      <td>1200</td>\n",
       "      <td>22300</td>\n",
       "      <td>7700</td>\n",
       "      <td>1300</td>\n",
       "      <td>None</td>\n",
       "      <td>1485.0</td>\n",
       "      <td>15.36</td>\n",
       "      <td>None</td>\n",
       "    </tr>\n",
       "    <tr>\n",
       "      <th>2</th>\n",
       "      <td>Albania</td>\n",
       "      <td>Barley</td>\n",
       "      <td>1991</td>\n",
       "      <td>3323</td>\n",
       "      <td>22300</td>\n",
       "      <td>7700</td>\n",
       "      <td>1300</td>\n",
       "      <td>None</td>\n",
       "      <td>1485.0</td>\n",
       "      <td>15.36</td>\n",
       "      <td>None</td>\n",
       "    </tr>\n",
       "    <tr>\n",
       "      <th>3</th>\n",
       "      <td>Albania</td>\n",
       "      <td>Beans  dry</td>\n",
       "      <td>1991</td>\n",
       "      <td>12844</td>\n",
       "      <td>22300</td>\n",
       "      <td>7700</td>\n",
       "      <td>1300</td>\n",
       "      <td>None</td>\n",
       "      <td>1485.0</td>\n",
       "      <td>15.36</td>\n",
       "      <td>None</td>\n",
       "    </tr>\n",
       "    <tr>\n",
       "      <th>4</th>\n",
       "      <td>Albania</td>\n",
       "      <td>Broad beans and horse beans  green</td>\n",
       "      <td>1991</td>\n",
       "      <td>0</td>\n",
       "      <td>22300</td>\n",
       "      <td>7700</td>\n",
       "      <td>1300</td>\n",
       "      <td>None</td>\n",
       "      <td>1485.0</td>\n",
       "      <td>15.36</td>\n",
       "      <td>None</td>\n",
       "    </tr>\n",
       "  </tbody>\n",
       "</table>\n",
       "</div>"
      ],
      "text/plain": [
       "      area                                item  year  production  nitrogen  \\\n",
       "0  Albania                              Apples  1991       10000     22300   \n",
       "1  Albania                            Apricots  1991        1200     22300   \n",
       "2  Albania                              Barley  1991        3323     22300   \n",
       "3  Albania                          Beans  dry  1991       12844     22300   \n",
       "4  Albania  Broad beans and horse beans  green  1991           0     22300   \n",
       "\n",
       "   phosphate  potassium value  avg_rain  avg_temp total_value_usd  \n",
       "0       7700       1300  None    1485.0     15.36            None  \n",
       "1       7700       1300  None    1485.0     15.36            None  \n",
       "2       7700       1300  None    1485.0     15.36            None  \n",
       "3       7700       1300  None    1485.0     15.36            None  \n",
       "4       7700       1300  None    1485.0     15.36            None  "
      ]
     },
     "execution_count": 54,
     "metadata": {},
     "output_type": "execute_result"
    }
   ],
   "source": [
    "# Look at the dataset\n",
    "statement = \"\"\"SELECT * FROM {}.{}\n",
    "    LIMIT 5\"\"\".format(\n",
    "    database_name, table_name_csv\n",
    ")\n",
    "\n",
    "print(statement)\n",
    "\n",
    "test= pd.read_sql(statement, conn)\n",
    "test.head()"
   ]
  },
  {
   "cell_type": "markdown",
   "id": "c04ad230-83a6-4c25-bd6b-d4fcd587d0dd",
   "metadata": {
    "tags": []
   },
   "source": [
    "### Convert to Parquet - Haven't got this to work, may be worth exploring to reduce costs"
   ]
  },
  {
   "cell_type": "code",
   "execution_count": 55,
   "id": "ca1feaea-52ec-4fde-b1b6-d8452ce320fb",
   "metadata": {
    "tags": []
   },
   "outputs": [
    {
     "name": "stdout",
     "output_type": "stream",
     "text": [
      "parquet_table_test = 'parquet_test'.\n",
      "parquet_file_test = 'merged_df_parquet.parquet'.\n"
     ]
    }
   ],
   "source": [
    "#Test Varaibles\n",
    "parquet_table_test = 'parquet_test'\n",
    "parquet_file_test = table_name_parquet + '.parquet'\n",
    "print(f\"parquet_table_test = '{parquet_table_test}'.\")\n",
    "print(f\"parquet_file_test = '{parquet_file_test}'.\")"
   ]
  },
  {
   "cell_type": "code",
   "execution_count": 56,
   "id": "5a422f62-220d-4a28-af61-f1c39446e7b1",
   "metadata": {},
   "outputs": [],
   "source": [
    "#statement = \"\"\"CREATE EXTERNAL TABLE IF NOT EXISTS {}.{}\n",
    "#WITH (format = 'PARQUET', external_location = '{}', partitioned_by = ARRAY['item']) AS\n",
    "#SELECT area,\n",
    "#        item,\n",
    "#        year,\n",
    "#        production,\n",
    "#        nitrogen,\n",
    "#        phosphate,\n",
    "#        potassium,\n",
    "#        value,\n",
    "#        avg_rain,\n",
    "#        avg_temp,\n",
    "#        total_value_usd  \n",
    "# FROM {}.{}\"\"\".format(\n",
    "#    database_name, table_name_parquet, s3_path_parquet, database_name, table_name_csv\n",
    "#)"
   ]
  },
  {
   "cell_type": "code",
   "execution_count": 57,
   "id": "ee1ed199-bac7-4cd9-8263-69333cf0d3c1",
   "metadata": {
    "tags": []
   },
   "outputs": [
    {
     "name": "stdout",
     "output_type": "stream",
     "text": [
      "Initial SQL Table = 'SELECT * FROM crops.merged_df'.\n",
      "First Read SQL into DF \n",
      "\n",
      "      area                                item  year  production  nitrogen  \\\n",
      "0  Albania                              Apples  1991     10000.0   22300.0   \n",
      "1  Albania                            Apricots  1991      1200.0   22300.0   \n",
      "2  Albania                              Barley  1991      3323.0   22300.0   \n",
      "3  Albania                          Beans  dry  1991     12844.0   22300.0   \n",
      "4  Albania  Broad beans and horse beans  green  1991         0.0   22300.0   \n",
      "\n",
      "   phosphate  potassium  value  avg_rain  avg_temp  total_value_usd  \n",
      "0     7700.0     1300.0    NaN    1485.0     15.36              NaN  \n",
      "1     7700.0     1300.0    NaN    1485.0     15.36              NaN  \n",
      "2     7700.0     1300.0    NaN    1485.0     15.36              NaN  \n",
      "3     7700.0     1300.0    NaN    1485.0     15.36              NaN  \n",
      "4     7700.0     1300.0    NaN    1485.0     15.36              NaN  \n",
      "DF Conversion to Parquet \n",
      "\n",
      "      area                                item  year  production  nitrogen  \\\n",
      "0  Albania                              Apples  1991     10000.0   22300.0   \n",
      "1  Albania                            Apricots  1991      1200.0   22300.0   \n",
      "2  Albania                              Barley  1991      3323.0   22300.0   \n",
      "3  Albania                          Beans  dry  1991     12844.0   22300.0   \n",
      "4  Albania  Broad beans and horse beans  green  1991         0.0   22300.0   \n",
      "\n",
      "   phosphate  potassium  value  avg_rain  avg_temp  total_value_usd  \n",
      "0     7700.0     1300.0    NaN    1485.0     15.36              NaN  \n",
      "1     7700.0     1300.0    NaN    1485.0     15.36              NaN  \n",
      "2     7700.0     1300.0    NaN    1485.0     15.36              NaN  \n",
      "3     7700.0     1300.0    NaN    1485.0     15.36              NaN  \n",
      "4     7700.0     1300.0    NaN    1485.0     15.36              NaN  \n"
     ]
    }
   ],
   "source": [
    "statement = \"\"\"SELECT * FROM {}.{}\"\"\".format(\n",
    "    database_name, table_name_csv\n",
    ")\n",
    "print(f\"Initial SQL Table = '{statement}'.\")\n",
    "\n",
    "df_parquet = pd.read_sql(statement, conn)\n",
    "print('First Read SQL into DF \\n')\n",
    "print(df_parquet.head(5))\n",
    "\n",
    "df_parquet.to_parquet(parquet_file_test)\n",
    "print('DF Conversion to Parquet \\n')\n",
    "print(df_parquet.head(5))"
   ]
  },
  {
   "cell_type": "code",
   "execution_count": 58,
   "id": "888d86f5-c1fa-4e64-903f-b0b2f772f380",
   "metadata": {
    "tags": []
   },
   "outputs": [
    {
     "name": "stdout",
     "output_type": "stream",
     "text": [
      "Uploading Parquet File 'merged_df_parquet.parquet'\n",
      "The Parquet file 'merged_df_parquet.parquet' exists in the S3 bucket 'sagemaker-us-east-1-954372485966'.\n"
     ]
    }
   ],
   "source": [
    "print(f\"Uploading Parquet File '{parquet_file_test}'\")\n",
    "s3_resource = boto3.resource('s3')\n",
    "s3_resource.Object(bucket, parquet_file_test).upload_file(parquet_file_test)\n",
    "\n",
    "# Create a boto3 S3 client\n",
    "s3_client = boto3.client('s3')\n",
    "\n",
    "# Check if the Parquet file exists in the S3 bucket\n",
    "try:\n",
    "    s3_client.head_object(Bucket=bucket, Key=parquet_file_test)\n",
    "    print(f\"The Parquet file '{parquet_file_test}' exists in the S3 bucket '{bucket}'.\")\n",
    "except:\n",
    "    print(f\"The Parquet file '{parquet_file_test}' does not exist in the S3 bucket '{bucket}'.\")"
   ]
  },
  {
   "cell_type": "code",
   "execution_count": 30,
   "id": "6b622995-68a8-4b88-93b9-ed5bcfa80b43",
   "metadata": {
    "tags": []
   },
   "outputs": [
    {
     "name": "stdout",
     "output_type": "stream",
     "text": [
      "Parquet Table Creation = 'CREATE TABLE IF NOT EXISTS crops.parquet_test\n",
      "WITH (format = 'PARQUET', external_location = 's3://s3://sagemaker-studio-998234604495-nyhifbo32oo/parquet//')\n",
      "AS SELECT * FROM crops.merged_df'.\n"
     ]
    },
    {
     "ename": "DatabaseError",
     "evalue": "Execution failed on sql: CREATE TABLE IF NOT EXISTS crops.parquet_test\nWITH (format = 'PARQUET', external_location = 's3://s3://sagemaker-studio-998234604495-nyhifbo32oo/parquet//')\nAS SELECT * FROM crops.merged_df\n[ErrorCode: INTERNAL_ERROR_QUERY_ENGINE] Amazon Athena experienced an internal error while executing this query. Please contact AWS support for further assistance. You will not be charged for this query. We apologize for the inconvenience. You may need to manually clean the data at location 's3://sagemaker-us-east-1-954372485966/athena/staging/tables/5408348b-f359-480e-b37f-6d9a210573bc' before retrying. Athena will not delete data in your account.\nunable to rollback",
     "output_type": "error",
     "traceback": [
      "\u001b[0;31m---------------------------------------------------------------------------\u001b[0m",
      "\u001b[0;31mOperationalError\u001b[0m                          Traceback (most recent call last)",
      "\u001b[0;32m/opt/conda/lib/python3.7/site-packages/pandas/io/sql.py\u001b[0m in \u001b[0;36mexecute\u001b[0;34m(self, *args, **kwargs)\u001b[0m\n\u001b[1;32m   1696\u001b[0m         \u001b[0;32mtry\u001b[0m\u001b[0;34m:\u001b[0m\u001b[0;34m\u001b[0m\u001b[0;34m\u001b[0m\u001b[0m\n\u001b[0;32m-> 1697\u001b[0;31m             \u001b[0mcur\u001b[0m\u001b[0;34m.\u001b[0m\u001b[0mexecute\u001b[0m\u001b[0;34m(\u001b[0m\u001b[0;34m*\u001b[0m\u001b[0margs\u001b[0m\u001b[0;34m,\u001b[0m \u001b[0;34m**\u001b[0m\u001b[0mkwargs\u001b[0m\u001b[0;34m)\u001b[0m\u001b[0;34m\u001b[0m\u001b[0;34m\u001b[0m\u001b[0m\n\u001b[0m\u001b[1;32m   1698\u001b[0m             \u001b[0;32mreturn\u001b[0m \u001b[0mcur\u001b[0m\u001b[0;34m\u001b[0m\u001b[0;34m\u001b[0m\u001b[0m\n",
      "\u001b[0;32m/opt/conda/lib/python3.7/site-packages/pyathena/util.py\u001b[0m in \u001b[0;36m_wrapper\u001b[0;34m(*args, **kwargs)\u001b[0m\n\u001b[1;32m     36\u001b[0m         \u001b[0;32mwith\u001b[0m \u001b[0m_lock\u001b[0m\u001b[0;34m:\u001b[0m\u001b[0;34m\u001b[0m\u001b[0;34m\u001b[0m\u001b[0m\n\u001b[0;32m---> 37\u001b[0;31m             \u001b[0;32mreturn\u001b[0m \u001b[0mwrapped\u001b[0m\u001b[0;34m(\u001b[0m\u001b[0;34m*\u001b[0m\u001b[0margs\u001b[0m\u001b[0;34m,\u001b[0m \u001b[0;34m**\u001b[0m\u001b[0mkwargs\u001b[0m\u001b[0;34m)\u001b[0m\u001b[0;34m\u001b[0m\u001b[0;34m\u001b[0m\u001b[0m\n\u001b[0m\u001b[1;32m     38\u001b[0m \u001b[0;34m\u001b[0m\u001b[0m\n",
      "\u001b[0;32m/opt/conda/lib/python3.7/site-packages/pyathena/cursor.py\u001b[0m in \u001b[0;36mexecute\u001b[0;34m(self, operation, parameters, work_group, s3_staging_dir, cache_size, cache_expiration_time)\u001b[0m\n\u001b[1;32m    105\u001b[0m         \u001b[0;32melse\u001b[0m\u001b[0;34m:\u001b[0m\u001b[0;34m\u001b[0m\u001b[0;34m\u001b[0m\u001b[0m\n\u001b[0;32m--> 106\u001b[0;31m             \u001b[0;32mraise\u001b[0m \u001b[0mOperationalError\u001b[0m\u001b[0;34m(\u001b[0m\u001b[0mquery_execution\u001b[0m\u001b[0;34m.\u001b[0m\u001b[0mstate_change_reason\u001b[0m\u001b[0;34m)\u001b[0m\u001b[0;34m\u001b[0m\u001b[0;34m\u001b[0m\u001b[0m\n\u001b[0m\u001b[1;32m    107\u001b[0m         \u001b[0;32mreturn\u001b[0m \u001b[0mself\u001b[0m\u001b[0;34m\u001b[0m\u001b[0;34m\u001b[0m\u001b[0m\n",
      "\u001b[0;31mOperationalError\u001b[0m: [ErrorCode: INTERNAL_ERROR_QUERY_ENGINE] Amazon Athena experienced an internal error while executing this query. Please contact AWS support for further assistance. You will not be charged for this query. We apologize for the inconvenience. You may need to manually clean the data at location 's3://sagemaker-us-east-1-954372485966/athena/staging/tables/5408348b-f359-480e-b37f-6d9a210573bc' before retrying. Athena will not delete data in your account.",
      "\nDuring handling of the above exception, another exception occurred:\n",
      "\u001b[0;31mNotSupportedError\u001b[0m                         Traceback (most recent call last)",
      "\u001b[0;32m/opt/conda/lib/python3.7/site-packages/pandas/io/sql.py\u001b[0m in \u001b[0;36mexecute\u001b[0;34m(self, *args, **kwargs)\u001b[0m\n\u001b[1;32m   1700\u001b[0m             \u001b[0;32mtry\u001b[0m\u001b[0;34m:\u001b[0m\u001b[0;34m\u001b[0m\u001b[0;34m\u001b[0m\u001b[0m\n\u001b[0;32m-> 1701\u001b[0;31m                 \u001b[0mself\u001b[0m\u001b[0;34m.\u001b[0m\u001b[0mcon\u001b[0m\u001b[0;34m.\u001b[0m\u001b[0mrollback\u001b[0m\u001b[0;34m(\u001b[0m\u001b[0;34m)\u001b[0m\u001b[0;34m\u001b[0m\u001b[0;34m\u001b[0m\u001b[0m\n\u001b[0m\u001b[1;32m   1702\u001b[0m             \u001b[0;32mexcept\u001b[0m \u001b[0mException\u001b[0m \u001b[0;32mas\u001b[0m \u001b[0minner_exc\u001b[0m\u001b[0;34m:\u001b[0m  \u001b[0;31m# pragma: no cover\u001b[0m\u001b[0;34m\u001b[0m\u001b[0;34m\u001b[0m\u001b[0m\n",
      "\u001b[0;32m/opt/conda/lib/python3.7/site-packages/pyathena/connection.py\u001b[0m in \u001b[0;36mrollback\u001b[0;34m(self)\u001b[0m\n\u001b[1;32m    241\u001b[0m     \u001b[0;32mdef\u001b[0m \u001b[0mrollback\u001b[0m\u001b[0;34m(\u001b[0m\u001b[0mself\u001b[0m\u001b[0;34m)\u001b[0m \u001b[0;34m->\u001b[0m \u001b[0;32mNone\u001b[0m\u001b[0;34m:\u001b[0m\u001b[0;34m\u001b[0m\u001b[0;34m\u001b[0m\u001b[0m\n\u001b[0;32m--> 242\u001b[0;31m         \u001b[0;32mraise\u001b[0m \u001b[0mNotSupportedError\u001b[0m\u001b[0;34m\u001b[0m\u001b[0;34m\u001b[0m\u001b[0m\n\u001b[0m",
      "\u001b[0;31mNotSupportedError\u001b[0m: ",
      "\nThe above exception was the direct cause of the following exception:\n",
      "\u001b[0;31mDatabaseError\u001b[0m                             Traceback (most recent call last)",
      "\u001b[0;32m<ipython-input-30-2731530e8717>\u001b[0m in \u001b[0;36m<module>\u001b[0;34m\u001b[0m\n\u001b[1;32m      6\u001b[0m \u001b[0;31m# cursor.execute(statement)\u001b[0m\u001b[0;34m\u001b[0m\u001b[0;34m\u001b[0m\u001b[0;34m\u001b[0m\u001b[0m\n\u001b[1;32m      7\u001b[0m \u001b[0mprint\u001b[0m\u001b[0;34m(\u001b[0m\u001b[0;34mf\"Parquet Table Creation = '{parquet_table_statement}'.\"\u001b[0m\u001b[0;34m)\u001b[0m\u001b[0;34m\u001b[0m\u001b[0;34m\u001b[0m\u001b[0m\n\u001b[0;32m----> 8\u001b[0;31m \u001b[0mdf_parquetFiletoSql_createTable\u001b[0m \u001b[0;34m=\u001b[0m \u001b[0mpd\u001b[0m\u001b[0;34m.\u001b[0m\u001b[0mread_sql\u001b[0m\u001b[0;34m(\u001b[0m\u001b[0mparquet_table_statement\u001b[0m\u001b[0;34m,\u001b[0m \u001b[0mconn\u001b[0m\u001b[0;34m)\u001b[0m\u001b[0;34m\u001b[0m\u001b[0;34m\u001b[0m\u001b[0m\n\u001b[0m\u001b[1;32m      9\u001b[0m \u001b[0;34m\u001b[0m\u001b[0m\n\u001b[1;32m     10\u001b[0m df_parquetFiletoSql_statement = \"\"\"SELECT * FROM {}.{}\"\"\".format(\n",
      "\u001b[0;32m/opt/conda/lib/python3.7/site-packages/pandas/io/sql.py\u001b[0m in \u001b[0;36mread_sql\u001b[0;34m(sql, con, index_col, coerce_float, params, parse_dates, columns, chunksize)\u001b[0m\n\u001b[1;32m    488\u001b[0m             \u001b[0mcoerce_float\u001b[0m\u001b[0;34m=\u001b[0m\u001b[0mcoerce_float\u001b[0m\u001b[0;34m,\u001b[0m\u001b[0;34m\u001b[0m\u001b[0;34m\u001b[0m\u001b[0m\n\u001b[1;32m    489\u001b[0m             \u001b[0mparse_dates\u001b[0m\u001b[0;34m=\u001b[0m\u001b[0mparse_dates\u001b[0m\u001b[0;34m,\u001b[0m\u001b[0;34m\u001b[0m\u001b[0;34m\u001b[0m\u001b[0m\n\u001b[0;32m--> 490\u001b[0;31m             \u001b[0mchunksize\u001b[0m\u001b[0;34m=\u001b[0m\u001b[0mchunksize\u001b[0m\u001b[0;34m,\u001b[0m\u001b[0;34m\u001b[0m\u001b[0;34m\u001b[0m\u001b[0m\n\u001b[0m\u001b[1;32m    491\u001b[0m         )\n\u001b[1;32m    492\u001b[0m \u001b[0;34m\u001b[0m\u001b[0m\n",
      "\u001b[0;32m/opt/conda/lib/python3.7/site-packages/pandas/io/sql.py\u001b[0m in \u001b[0;36mread_query\u001b[0;34m(self, sql, index_col, coerce_float, params, parse_dates, chunksize)\u001b[0m\n\u001b[1;32m   1741\u001b[0m \u001b[0;34m\u001b[0m\u001b[0m\n\u001b[1;32m   1742\u001b[0m         \u001b[0margs\u001b[0m \u001b[0;34m=\u001b[0m \u001b[0m_convert_params\u001b[0m\u001b[0;34m(\u001b[0m\u001b[0msql\u001b[0m\u001b[0;34m,\u001b[0m \u001b[0mparams\u001b[0m\u001b[0;34m)\u001b[0m\u001b[0;34m\u001b[0m\u001b[0;34m\u001b[0m\u001b[0m\n\u001b[0;32m-> 1743\u001b[0;31m         \u001b[0mcursor\u001b[0m \u001b[0;34m=\u001b[0m \u001b[0mself\u001b[0m\u001b[0;34m.\u001b[0m\u001b[0mexecute\u001b[0m\u001b[0;34m(\u001b[0m\u001b[0;34m*\u001b[0m\u001b[0margs\u001b[0m\u001b[0;34m)\u001b[0m\u001b[0;34m\u001b[0m\u001b[0;34m\u001b[0m\u001b[0m\n\u001b[0m\u001b[1;32m   1744\u001b[0m         \u001b[0mcolumns\u001b[0m \u001b[0;34m=\u001b[0m \u001b[0;34m[\u001b[0m\u001b[0mcol_desc\u001b[0m\u001b[0;34m[\u001b[0m\u001b[0;36m0\u001b[0m\u001b[0;34m]\u001b[0m \u001b[0;32mfor\u001b[0m \u001b[0mcol_desc\u001b[0m \u001b[0;32min\u001b[0m \u001b[0mcursor\u001b[0m\u001b[0;34m.\u001b[0m\u001b[0mdescription\u001b[0m\u001b[0;34m]\u001b[0m\u001b[0;34m\u001b[0m\u001b[0;34m\u001b[0m\u001b[0m\n\u001b[1;32m   1745\u001b[0m \u001b[0;34m\u001b[0m\u001b[0m\n",
      "\u001b[0;32m/opt/conda/lib/python3.7/site-packages/pandas/io/sql.py\u001b[0m in \u001b[0;36mexecute\u001b[0;34m(self, *args, **kwargs)\u001b[0m\n\u001b[1;32m   1704\u001b[0m                     \u001b[0;34mf\"Execution failed on sql: {args[0]}\\n{exc}\\nunable to rollback\"\u001b[0m\u001b[0;34m\u001b[0m\u001b[0;34m\u001b[0m\u001b[0m\n\u001b[1;32m   1705\u001b[0m                 )\n\u001b[0;32m-> 1706\u001b[0;31m                 \u001b[0;32mraise\u001b[0m \u001b[0mex\u001b[0m \u001b[0;32mfrom\u001b[0m \u001b[0minner_exc\u001b[0m\u001b[0;34m\u001b[0m\u001b[0;34m\u001b[0m\u001b[0m\n\u001b[0m\u001b[1;32m   1707\u001b[0m \u001b[0;34m\u001b[0m\u001b[0m\n\u001b[1;32m   1708\u001b[0m             \u001b[0mex\u001b[0m \u001b[0;34m=\u001b[0m \u001b[0mDatabaseError\u001b[0m\u001b[0;34m(\u001b[0m\u001b[0;34mf\"Execution failed on sql '{args[0]}': {exc}\"\u001b[0m\u001b[0;34m)\u001b[0m\u001b[0;34m\u001b[0m\u001b[0;34m\u001b[0m\u001b[0m\n",
      "\u001b[0;31mDatabaseError\u001b[0m: Execution failed on sql: CREATE TABLE IF NOT EXISTS crops.parquet_test\nWITH (format = 'PARQUET', external_location = 's3://s3://sagemaker-studio-998234604495-nyhifbo32oo/parquet//')\nAS SELECT * FROM crops.merged_df\n[ErrorCode: INTERNAL_ERROR_QUERY_ENGINE] Amazon Athena experienced an internal error while executing this query. Please contact AWS support for further assistance. You will not be charged for this query. We apologize for the inconvenience. You may need to manually clean the data at location 's3://sagemaker-us-east-1-954372485966/athena/staging/tables/5408348b-f359-480e-b37f-6d9a210573bc' before retrying. Athena will not delete data in your account.\nunable to rollback"
     ]
    }
   ],
   "source": [
    "parquet_table_statement = \"\"\"CREATE TABLE IF NOT EXISTS {}.{}\n",
    "WITH (format = 'PARQUET', external_location = 's3://{}/')\n",
    "AS SELECT * FROM {}.{}\"\"\".format(database_name, parquet_table_test, s3_path_parquet, database_name, table_name_csv)\n",
    "# cursor.execute(f\"CREATE TABLE <your-new-athena-sql-table> WITH (format = 'PARQUET', external_location = 's3://<your-s3-bucket>/') AS SELECT * FROM <your-athena-sql-table>\")\n",
    "\n",
    "# cursor.execute(statement)\n",
    "print(f\"Parquet Table Creation = '{parquet_table_statement}'.\")\n",
    "df_parquetFiletoSql_createTable = pd.read_sql(parquet_table_statement, conn)\n",
    "\n",
    "df_parquetFiletoSql_statement = \"\"\"SELECT * FROM {}.{}\"\"\".format(\n",
    "    database_name, parquet_table_test)\n",
    "print(f\"Parquet Table Select Statement = '{df_parquetFiletoSql_statement}'.\")\n",
    "df_parquetFiletoSql_readTable = pd.read_sql(df_parquetFiletoSql_statement, conn)\n",
    "print(df_parquetFiletoSql_readTable.head(5))"
   ]
  },
  {
   "cell_type": "markdown",
   "id": "1026923c-0d0e-4ed6-9c88-282fb5184b26",
   "metadata": {},
   "source": [
    "# Exploratory Data Analysis"
   ]
  },
  {
   "cell_type": "code",
   "execution_count": 59,
   "id": "4d5900c7-a96d-4816-9a04-e61727ba1660",
   "metadata": {
    "tags": []
   },
   "outputs": [
    {
     "data": {
      "text/html": [
       "<div>\n",
       "<style scoped>\n",
       "    .dataframe tbody tr th:only-of-type {\n",
       "        vertical-align: middle;\n",
       "    }\n",
       "\n",
       "    .dataframe tbody tr th {\n",
       "        vertical-align: top;\n",
       "    }\n",
       "\n",
       "    .dataframe thead th {\n",
       "        text-align: right;\n",
       "    }\n",
       "</style>\n",
       "<table border=\"1\" class=\"dataframe\">\n",
       "  <thead>\n",
       "    <tr style=\"text-align: right;\">\n",
       "      <th></th>\n",
       "      <th>area</th>\n",
       "      <th>item</th>\n",
       "      <th>year</th>\n",
       "      <th>production</th>\n",
       "      <th>nitrogen</th>\n",
       "      <th>phosphate</th>\n",
       "      <th>potassium</th>\n",
       "      <th>value</th>\n",
       "      <th>avg_rain</th>\n",
       "      <th>avg_temp</th>\n",
       "      <th>total_value_usd</th>\n",
       "    </tr>\n",
       "  </thead>\n",
       "  <tbody>\n",
       "    <tr>\n",
       "      <th>0</th>\n",
       "      <td>Albania</td>\n",
       "      <td>Apples</td>\n",
       "      <td>1991</td>\n",
       "      <td>10000.0</td>\n",
       "      <td>22300.0</td>\n",
       "      <td>7700.0</td>\n",
       "      <td>1300.0</td>\n",
       "      <td>NaN</td>\n",
       "      <td>1485.0</td>\n",
       "      <td>15.36</td>\n",
       "      <td>NaN</td>\n",
       "    </tr>\n",
       "    <tr>\n",
       "      <th>1</th>\n",
       "      <td>Albania</td>\n",
       "      <td>Apricots</td>\n",
       "      <td>1991</td>\n",
       "      <td>1200.0</td>\n",
       "      <td>22300.0</td>\n",
       "      <td>7700.0</td>\n",
       "      <td>1300.0</td>\n",
       "      <td>NaN</td>\n",
       "      <td>1485.0</td>\n",
       "      <td>15.36</td>\n",
       "      <td>NaN</td>\n",
       "    </tr>\n",
       "    <tr>\n",
       "      <th>2</th>\n",
       "      <td>Albania</td>\n",
       "      <td>Barley</td>\n",
       "      <td>1991</td>\n",
       "      <td>3323.0</td>\n",
       "      <td>22300.0</td>\n",
       "      <td>7700.0</td>\n",
       "      <td>1300.0</td>\n",
       "      <td>NaN</td>\n",
       "      <td>1485.0</td>\n",
       "      <td>15.36</td>\n",
       "      <td>NaN</td>\n",
       "    </tr>\n",
       "    <tr>\n",
       "      <th>3</th>\n",
       "      <td>Albania</td>\n",
       "      <td>Beans  dry</td>\n",
       "      <td>1991</td>\n",
       "      <td>12844.0</td>\n",
       "      <td>22300.0</td>\n",
       "      <td>7700.0</td>\n",
       "      <td>1300.0</td>\n",
       "      <td>NaN</td>\n",
       "      <td>1485.0</td>\n",
       "      <td>15.36</td>\n",
       "      <td>NaN</td>\n",
       "    </tr>\n",
       "    <tr>\n",
       "      <th>4</th>\n",
       "      <td>Albania</td>\n",
       "      <td>Broad beans and horse beans  green</td>\n",
       "      <td>1991</td>\n",
       "      <td>0.0</td>\n",
       "      <td>22300.0</td>\n",
       "      <td>7700.0</td>\n",
       "      <td>1300.0</td>\n",
       "      <td>NaN</td>\n",
       "      <td>1485.0</td>\n",
       "      <td>15.36</td>\n",
       "      <td>NaN</td>\n",
       "    </tr>\n",
       "  </tbody>\n",
       "</table>\n",
       "</div>"
      ],
      "text/plain": [
       "      area                                item  year  production  nitrogen  \\\n",
       "0  Albania                              Apples  1991     10000.0   22300.0   \n",
       "1  Albania                            Apricots  1991      1200.0   22300.0   \n",
       "2  Albania                              Barley  1991      3323.0   22300.0   \n",
       "3  Albania                          Beans  dry  1991     12844.0   22300.0   \n",
       "4  Albania  Broad beans and horse beans  green  1991         0.0   22300.0   \n",
       "\n",
       "   phosphate  potassium  value  avg_rain  avg_temp  total_value_usd  \n",
       "0     7700.0     1300.0    NaN    1485.0     15.36              NaN  \n",
       "1     7700.0     1300.0    NaN    1485.0     15.36              NaN  \n",
       "2     7700.0     1300.0    NaN    1485.0     15.36              NaN  \n",
       "3     7700.0     1300.0    NaN    1485.0     15.36              NaN  \n",
       "4     7700.0     1300.0    NaN    1485.0     15.36              NaN  "
      ]
     },
     "execution_count": 59,
     "metadata": {},
     "output_type": "execute_result"
    }
   ],
   "source": [
    "### Save as df to potentially save cost\n",
    "statement = \"\"\"SELECT * FROM {}.{}\"\"\".format(\n",
    "    database_name, table_name_csv\n",
    ")\n",
    "\n",
    "df= pd.read_sql(statement, conn)\n",
    "df.head()"
   ]
  },
  {
   "cell_type": "code",
   "execution_count": 60,
   "id": "de723182-2bf8-4d39-98e3-0c905fa23c81",
   "metadata": {
    "tags": []
   },
   "outputs": [
    {
     "name": "stdout",
     "output_type": "stream",
     "text": [
      "There are 113454 rows in the data frame and 11 columns\n"
     ]
    }
   ],
   "source": [
    "print(\"There are\", df.shape[0], \"rows in the data frame and\", df.shape[1], \"columns\")"
   ]
  },
  {
   "cell_type": "markdown",
   "id": "bfa8fac4-8dc4-4463-bb77-e8475130153f",
   "metadata": {},
   "source": [
    "## Adding in Geographic Data\n",
    "Since we're using location as a predictor, we'll need to grab the coordinates of each country. There are also regions that we'll need to delete"
   ]
  },
  {
   "cell_type": "code",
   "execution_count": 61,
   "id": "19a8e491-bc7d-47ca-9750-a16dc3b75a47",
   "metadata": {
    "tags": []
   },
   "outputs": [],
   "source": [
    "# Functions to find coordinates\n",
    "geolocater = Nominatim(user_agent=\"geoapiExercise\")\n",
    "def geolocate_lat(area):\n",
    "    try:\n",
    "        # Center of country\n",
    "        loc = geolocater.geocode(area)\n",
    "        # Return coords\n",
    "        return (loc.latitude)\n",
    "    except:\n",
    "        return np.nan\n",
    "    \n",
    "def geolocate_long(area):\n",
    "    try:\n",
    "        # Center of country\n",
    "        loc = geolocater.geocode(area)\n",
    "        # Return coords\n",
    "        return (loc.longitude)\n",
    "    except:\n",
    "        return np.nan"
   ]
  },
  {
   "cell_type": "code",
   "execution_count": 62,
   "id": "e89e22fb-87b9-4812-bbe2-39094a9d565c",
   "metadata": {
    "tags": []
   },
   "outputs": [],
   "source": [
    "# Get the coordinates and build df for them\n",
    "countries = df['area'].unique()\n",
    "countries = pd.Series(countries)\n",
    "\n",
    "latitudes = countries.apply(geolocate_lat)\n",
    "longitudes = countries.apply(geolocate_long)\n",
    "\n",
    "coord = pd.DataFrame(list(zip(countries, latitudes, longitudes)),\n",
    "             columns=['area', 'lat', 'long'])"
   ]
  },
  {
   "cell_type": "code",
   "execution_count": 63,
   "id": "5bf5d82e-82d8-4126-ab15-139af0b3ff72",
   "metadata": {
    "tags": []
   },
   "outputs": [
    {
     "data": {
      "text/html": [
       "<div>\n",
       "<style scoped>\n",
       "    .dataframe tbody tr th:only-of-type {\n",
       "        vertical-align: middle;\n",
       "    }\n",
       "\n",
       "    .dataframe tbody tr th {\n",
       "        vertical-align: top;\n",
       "    }\n",
       "\n",
       "    .dataframe thead th {\n",
       "        text-align: right;\n",
       "    }\n",
       "</style>\n",
       "<table border=\"1\" class=\"dataframe\">\n",
       "  <thead>\n",
       "    <tr style=\"text-align: right;\">\n",
       "      <th></th>\n",
       "      <th>area</th>\n",
       "      <th>item</th>\n",
       "      <th>year</th>\n",
       "      <th>production</th>\n",
       "      <th>nitrogen</th>\n",
       "      <th>phosphate</th>\n",
       "      <th>potassium</th>\n",
       "      <th>value</th>\n",
       "      <th>avg_rain</th>\n",
       "      <th>avg_temp</th>\n",
       "      <th>total_value_usd</th>\n",
       "      <th>lat</th>\n",
       "      <th>long</th>\n",
       "    </tr>\n",
       "  </thead>\n",
       "  <tbody>\n",
       "    <tr>\n",
       "      <th>0</th>\n",
       "      <td>Albania</td>\n",
       "      <td>Apples</td>\n",
       "      <td>1991</td>\n",
       "      <td>10000.0</td>\n",
       "      <td>22300.0</td>\n",
       "      <td>7700.0</td>\n",
       "      <td>1300.0</td>\n",
       "      <td>NaN</td>\n",
       "      <td>1485.0</td>\n",
       "      <td>15.36</td>\n",
       "      <td>NaN</td>\n",
       "      <td>41.000028</td>\n",
       "      <td>19.999962</td>\n",
       "    </tr>\n",
       "    <tr>\n",
       "      <th>1</th>\n",
       "      <td>Albania</td>\n",
       "      <td>Apricots</td>\n",
       "      <td>1991</td>\n",
       "      <td>1200.0</td>\n",
       "      <td>22300.0</td>\n",
       "      <td>7700.0</td>\n",
       "      <td>1300.0</td>\n",
       "      <td>NaN</td>\n",
       "      <td>1485.0</td>\n",
       "      <td>15.36</td>\n",
       "      <td>NaN</td>\n",
       "      <td>41.000028</td>\n",
       "      <td>19.999962</td>\n",
       "    </tr>\n",
       "    <tr>\n",
       "      <th>2</th>\n",
       "      <td>Albania</td>\n",
       "      <td>Barley</td>\n",
       "      <td>1991</td>\n",
       "      <td>3323.0</td>\n",
       "      <td>22300.0</td>\n",
       "      <td>7700.0</td>\n",
       "      <td>1300.0</td>\n",
       "      <td>NaN</td>\n",
       "      <td>1485.0</td>\n",
       "      <td>15.36</td>\n",
       "      <td>NaN</td>\n",
       "      <td>41.000028</td>\n",
       "      <td>19.999962</td>\n",
       "    </tr>\n",
       "    <tr>\n",
       "      <th>3</th>\n",
       "      <td>Albania</td>\n",
       "      <td>Beans  dry</td>\n",
       "      <td>1991</td>\n",
       "      <td>12844.0</td>\n",
       "      <td>22300.0</td>\n",
       "      <td>7700.0</td>\n",
       "      <td>1300.0</td>\n",
       "      <td>NaN</td>\n",
       "      <td>1485.0</td>\n",
       "      <td>15.36</td>\n",
       "      <td>NaN</td>\n",
       "      <td>41.000028</td>\n",
       "      <td>19.999962</td>\n",
       "    </tr>\n",
       "    <tr>\n",
       "      <th>4</th>\n",
       "      <td>Albania</td>\n",
       "      <td>Broad beans and horse beans  green</td>\n",
       "      <td>1991</td>\n",
       "      <td>0.0</td>\n",
       "      <td>22300.0</td>\n",
       "      <td>7700.0</td>\n",
       "      <td>1300.0</td>\n",
       "      <td>NaN</td>\n",
       "      <td>1485.0</td>\n",
       "      <td>15.36</td>\n",
       "      <td>NaN</td>\n",
       "      <td>41.000028</td>\n",
       "      <td>19.999962</td>\n",
       "    </tr>\n",
       "  </tbody>\n",
       "</table>\n",
       "</div>"
      ],
      "text/plain": [
       "      area                                item  year  production  nitrogen  \\\n",
       "0  Albania                              Apples  1991     10000.0   22300.0   \n",
       "1  Albania                            Apricots  1991      1200.0   22300.0   \n",
       "2  Albania                              Barley  1991      3323.0   22300.0   \n",
       "3  Albania                          Beans  dry  1991     12844.0   22300.0   \n",
       "4  Albania  Broad beans and horse beans  green  1991         0.0   22300.0   \n",
       "\n",
       "   phosphate  potassium  value  avg_rain  avg_temp  total_value_usd  \\\n",
       "0     7700.0     1300.0    NaN    1485.0     15.36              NaN   \n",
       "1     7700.0     1300.0    NaN    1485.0     15.36              NaN   \n",
       "2     7700.0     1300.0    NaN    1485.0     15.36              NaN   \n",
       "3     7700.0     1300.0    NaN    1485.0     15.36              NaN   \n",
       "4     7700.0     1300.0    NaN    1485.0     15.36              NaN   \n",
       "\n",
       "         lat       long  \n",
       "0  41.000028  19.999962  \n",
       "1  41.000028  19.999962  \n",
       "2  41.000028  19.999962  \n",
       "3  41.000028  19.999962  \n",
       "4  41.000028  19.999962  "
      ]
     },
     "execution_count": 63,
     "metadata": {},
     "output_type": "execute_result"
    }
   ],
   "source": [
    "# Merge our data\n",
    "df = pd.merge(df, coord, left_on=['area'], right_on=['area'], how=\"inner\")\n",
    "df.head()"
   ]
  },
  {
   "cell_type": "markdown",
   "id": "f4dd028e-0772-47d6-bb37-c40bb1ec23a8",
   "metadata": {},
   "source": [
    "## NA Analysis"
   ]
  },
  {
   "cell_type": "code",
   "execution_count": 64,
   "id": "cbe19da7-8eea-40c7-914c-e259b3d07be3",
   "metadata": {
    "tags": []
   },
   "outputs": [
    {
     "name": "stdout",
     "output_type": "stream",
     "text": [
      "area                   0\n",
      "item                   0\n",
      "year                   0\n",
      "production          2570\n",
      "nitrogen            2149\n",
      "phosphate           4453\n",
      "potassium           5433\n",
      "value              40675\n",
      "avg_rain               0\n",
      "avg_temp               0\n",
      "total_value_usd    40918\n",
      "lat                    0\n",
      "long                   0\n",
      "dtype: int64\n"
     ]
    }
   ],
   "source": [
    "nan_count = df.isna().sum()\n",
    "print(nan_count)"
   ]
  },
  {
   "cell_type": "markdown",
   "id": "f11b8081-6faa-4539-831f-14d367dac9f1",
   "metadata": {},
   "source": [
    "The large amount of NAs in total_value_usd appears to be from value. Likely a country not reporting in USD or based on the year. Either one would be fairly hard to get the correct value as we would need to look up the conversion rates for every country at the specific times."
   ]
  },
  {
   "cell_type": "code",
   "execution_count": 65,
   "id": "42fe5f8a-ac54-4331-bd25-95105866f901",
   "metadata": {
    "tags": []
   },
   "outputs": [
    {
     "data": {
      "image/png": "[encoded data removed]",
      "text/plain": [
       "<Figure size 640x480 with 1 Axes>"
      ]
     },
     "metadata": {},
     "output_type": "display_data"
    }
   ],
   "source": [
    "# By Year\n",
    "na_year = df.total_value_usd.isnull().groupby(df['year']).sum().astype(int).reset_index(name=\"count\")\n",
    "na_year['year'] = na_year['year'].astype(object)\n",
    "\n",
    "bars = na_year['year']\n",
    "height = na_year['count']\n",
    "y_pos = np.arange(len(bars))\n",
    "\n",
    "plt.clf()\n",
    "plt.barh(y_pos, height)\n",
    "\n",
    "plt.title(\"Total Value NAs by Year\")\n",
    "plt.ylabel(\"Year\")\n",
    "plt.xlabel(\"NAs\")\n",
    "plt.yticks(y_pos, bars)\n",
    "plt.show()"
   ]
  },
  {
   "cell_type": "markdown",
   "id": "87a5e5fc-e81d-4dc1-844c-3cc9a928bfb8",
   "metadata": {},
   "source": [
    "### Creating a View for NA By Year in Athena"
   ]
  },
  {
   "cell_type": "code",
   "execution_count": 76,
   "id": "0ac041d7-4633-42fa-a8bc-6ae5a9551a1a",
   "metadata": {
    "tags": []
   },
   "outputs": [
    {
     "name": "stdout",
     "output_type": "stream",
     "text": [
      "View created successfully\n"
     ]
    }
   ],
   "source": [
    "\n",
    "# Define the SQL statement to create the view\n",
    "years_ViewName = 'TotalValueNAByYear'\n",
    "TotalValueNAByYear_statment = \"\"\" CREATE OR REPLACE VIEW {}.{} AS\n",
    "SELECT year, SUM(CASE WHEN total_value_usd IS NULL then 1 ELSE 0 END) AS Total_Value_USD_Nulls\n",
    "FROM {}.{}\n",
    "GROUP BY year\n",
    "ORDER BY 2 desc\n",
    "\"\"\".format(database_name, years_ViewName, database_name, table_name_csv) \n",
    "\n",
    "# Execute the query to create the view\n",
    "try:\n",
    "    response = client.start_query_execution(\n",
    "        QueryString=TotalValueNAByYear_statment,\n",
    "        QueryExecutionContext={\n",
    "            'Database': database_name\n",
    "        },\n",
    "        ResultConfiguration={\n",
    "            'OutputLocation': s3_path_views\n",
    "        }\n",
    "    )\n",
    "    print('View created successfully')\n",
    "except ClientError as e:\n",
    "    print('Error creating view: {}'.format(e))"
   ]
  },
  {
   "cell_type": "code",
   "execution_count": 77,
   "id": "58339ace-8245-4254-8631-7aa1d0f7caab",
   "metadata": {
    "tags": []
   },
   "outputs": [
    {
     "name": "stdout",
     "output_type": "stream",
     "text": [
      "SELECT * FROM crops.TotalValueNAByYear\n"
     ]
    },
    {
     "data": {
      "text/html": [
       "<div>\n",
       "<style scoped>\n",
       "    .dataframe tbody tr th:only-of-type {\n",
       "        vertical-align: middle;\n",
       "    }\n",
       "\n",
       "    .dataframe tbody tr th {\n",
       "        vertical-align: top;\n",
       "    }\n",
       "\n",
       "    .dataframe thead th {\n",
       "        text-align: right;\n",
       "    }\n",
       "</style>\n",
       "<table border=\"1\" class=\"dataframe\">\n",
       "  <thead>\n",
       "    <tr style=\"text-align: right;\">\n",
       "      <th></th>\n",
       "      <th>year</th>\n",
       "      <th>Total_Value_USD_Nulls</th>\n",
       "    </tr>\n",
       "  </thead>\n",
       "  <tbody>\n",
       "    <tr>\n",
       "      <th>0</th>\n",
       "      <td>1991</td>\n",
       "      <td>2745</td>\n",
       "    </tr>\n",
       "    <tr>\n",
       "      <th>1</th>\n",
       "      <td>1992</td>\n",
       "      <td>2526</td>\n",
       "    </tr>\n",
       "    <tr>\n",
       "      <th>2</th>\n",
       "      <td>1993</td>\n",
       "      <td>2339</td>\n",
       "    </tr>\n",
       "    <tr>\n",
       "      <th>3</th>\n",
       "      <td>1994</td>\n",
       "      <td>2177</td>\n",
       "    </tr>\n",
       "    <tr>\n",
       "      <th>4</th>\n",
       "      <td>1996</td>\n",
       "      <td>1985</td>\n",
       "    </tr>\n",
       "    <tr>\n",
       "      <th>5</th>\n",
       "      <td>1995</td>\n",
       "      <td>1980</td>\n",
       "    </tr>\n",
       "    <tr>\n",
       "      <th>6</th>\n",
       "      <td>1997</td>\n",
       "      <td>1851</td>\n",
       "    </tr>\n",
       "    <tr>\n",
       "      <th>7</th>\n",
       "      <td>2004</td>\n",
       "      <td>1822</td>\n",
       "    </tr>\n",
       "    <tr>\n",
       "      <th>8</th>\n",
       "      <td>2005</td>\n",
       "      <td>1777</td>\n",
       "    </tr>\n",
       "    <tr>\n",
       "      <th>9</th>\n",
       "      <td>1998</td>\n",
       "      <td>1768</td>\n",
       "    </tr>\n",
       "    <tr>\n",
       "      <th>10</th>\n",
       "      <td>1999</td>\n",
       "      <td>1745</td>\n",
       "    </tr>\n",
       "    <tr>\n",
       "      <th>11</th>\n",
       "      <td>2010</td>\n",
       "      <td>1731</td>\n",
       "    </tr>\n",
       "    <tr>\n",
       "      <th>12</th>\n",
       "      <td>2009</td>\n",
       "      <td>1728</td>\n",
       "    </tr>\n",
       "    <tr>\n",
       "      <th>13</th>\n",
       "      <td>2008</td>\n",
       "      <td>1727</td>\n",
       "    </tr>\n",
       "    <tr>\n",
       "      <th>14</th>\n",
       "      <td>2013</td>\n",
       "      <td>1713</td>\n",
       "    </tr>\n",
       "    <tr>\n",
       "      <th>15</th>\n",
       "      <td>2011</td>\n",
       "      <td>1659</td>\n",
       "    </tr>\n",
       "    <tr>\n",
       "      <th>16</th>\n",
       "      <td>2000</td>\n",
       "      <td>1647</td>\n",
       "    </tr>\n",
       "    <tr>\n",
       "      <th>17</th>\n",
       "      <td>2012</td>\n",
       "      <td>1637</td>\n",
       "    </tr>\n",
       "    <tr>\n",
       "      <th>18</th>\n",
       "      <td>2007</td>\n",
       "      <td>1632</td>\n",
       "    </tr>\n",
       "    <tr>\n",
       "      <th>19</th>\n",
       "      <td>2006</td>\n",
       "      <td>1619</td>\n",
       "    </tr>\n",
       "    <tr>\n",
       "      <th>20</th>\n",
       "      <td>2001</td>\n",
       "      <td>1557</td>\n",
       "    </tr>\n",
       "    <tr>\n",
       "      <th>21</th>\n",
       "      <td>2002</td>\n",
       "      <td>1553</td>\n",
       "    </tr>\n",
       "  </tbody>\n",
       "</table>\n",
       "</div>"
      ],
      "text/plain": [
       "    year  Total_Value_USD_Nulls\n",
       "0   1991                   2745\n",
       "1   1992                   2526\n",
       "2   1993                   2339\n",
       "3   1994                   2177\n",
       "4   1996                   1985\n",
       "5   1995                   1980\n",
       "6   1997                   1851\n",
       "7   2004                   1822\n",
       "8   2005                   1777\n",
       "9   1998                   1768\n",
       "10  1999                   1745\n",
       "11  2010                   1731\n",
       "12  2009                   1728\n",
       "13  2008                   1727\n",
       "14  2013                   1713\n",
       "15  2011                   1659\n",
       "16  2000                   1647\n",
       "17  2012                   1637\n",
       "18  2007                   1632\n",
       "19  2006                   1619\n",
       "20  2001                   1557\n",
       "21  2002                   1553"
      ]
     },
     "execution_count": 77,
     "metadata": {},
     "output_type": "execute_result"
    }
   ],
   "source": [
    "yearsNA_statement = \"\"\"SELECT * FROM {}.{}\"\"\".format(database_name, years_ViewName)\n",
    "print(yearsNA_statement)\n",
    "df_yearsNA = pd.read_sql(yearsNA_statement, conn)\n",
    "df_yearsNA"
   ]
  },
  {
   "cell_type": "code",
   "execution_count": 68,
   "id": "8179430c-f82f-45f4-accf-209b800012ee",
   "metadata": {
    "tags": []
   },
   "outputs": [
    {
     "data": {
      "image/png": "[encoded data removed]",
      "text/plain": [
       "<Figure size 640x480 with 1 Axes>"
      ]
     },
     "metadata": {},
     "output_type": "display_data"
    }
   ],
   "source": [
    "# By Country\n",
    "na_country = df.total_value_usd.isnull().groupby(df['area']).sum().astype(int).reset_index(name=\"count\")\n",
    "na_country = na_country.sort_values(by=['count'], ascending=False).head(10)\n",
    "\n",
    "\n",
    "bars = na_country['area']\n",
    "height = na_country['count']\n",
    "y_pos = np.arange(len(bars))\n",
    "\n",
    "plt.clf()\n",
    "plt.barh(y_pos, height)\n",
    "\n",
    "plt.title(\"Total Value NAs by Country - Top 10\")\n",
    "plt.ylabel(\"Country\")\n",
    "plt.xlabel(\"NAs\")\n",
    "plt.yticks(y_pos, bars)\n",
    "plt.show()"
   ]
  },
  {
   "cell_type": "markdown",
   "id": "df8361bb-ed8f-46b2-b018-14f1ad2b2ac2",
   "metadata": {},
   "source": [
    "### View for NA By Country"
   ]
  },
  {
   "cell_type": "code",
   "execution_count": 78,
   "id": "78114f5c-8883-4f33-9c7e-ce950c1ae2ed",
   "metadata": {
    "tags": []
   },
   "outputs": [
    {
     "name": "stdout",
     "output_type": "stream",
     "text": [
      "View created successfully\n"
     ]
    }
   ],
   "source": [
    "# Define the SQL statement to create the view\n",
    "country_ViewName = 'TotalValueNAByCountry'\n",
    "TotalValueNAByCountry_statment = \"\"\" CREATE OR REPLACE VIEW {}.{} AS\n",
    "SELECT area as Country, SUM(CASE WHEN total_value_usd IS NULL then 1 ELSE 0 END) AS Total_Value_USD_Nulls\n",
    "FROM {}.{}\n",
    "GROUP BY area\n",
    "ORDER BY 2 desc\n",
    "\"\"\".format(database_name, country_ViewName, database_name, table_name_csv) \n",
    "\n",
    "# Execute the query to create the view\n",
    "try:\n",
    "    response = client.start_query_execution(\n",
    "        QueryString=TotalValueNAByCountry_statment,\n",
    "        QueryExecutionContext={\n",
    "            'Database': database_name\n",
    "        },\n",
    "        ResultConfiguration={\n",
    "            'OutputLocation': s3_path_views\n",
    "        }\n",
    "    )\n",
    "    print('View created successfully')\n",
    "except ClientError as e:\n",
    "    print('Error creating view: {}'.format(e))"
   ]
  },
  {
   "cell_type": "code",
   "execution_count": 79,
   "id": "24746142-d2e1-4127-9f06-aaf294c6791a",
   "metadata": {
    "tags": []
   },
   "outputs": [
    {
     "name": "stdout",
     "output_type": "stream",
     "text": [
      "SELECT * FROM crops.TotalValueNAByCountry\n"
     ]
    },
    {
     "data": {
      "text/html": [
       "<div>\n",
       "<style scoped>\n",
       "    .dataframe tbody tr th:only-of-type {\n",
       "        vertical-align: middle;\n",
       "    }\n",
       "\n",
       "    .dataframe tbody tr th {\n",
       "        vertical-align: top;\n",
       "    }\n",
       "\n",
       "    .dataframe thead th {\n",
       "        text-align: right;\n",
       "    }\n",
       "</style>\n",
       "<table border=\"1\" class=\"dataframe\">\n",
       "  <thead>\n",
       "    <tr style=\"text-align: right;\">\n",
       "      <th></th>\n",
       "      <th>Country</th>\n",
       "      <th>Total_Value_USD_Nulls</th>\n",
       "    </tr>\n",
       "  </thead>\n",
       "  <tbody>\n",
       "    <tr>\n",
       "      <th>0</th>\n",
       "      <td>China</td>\n",
       "      <td>1268</td>\n",
       "    </tr>\n",
       "    <tr>\n",
       "      <th>1</th>\n",
       "      <td>India</td>\n",
       "      <td>1125</td>\n",
       "    </tr>\n",
       "    <tr>\n",
       "      <th>2</th>\n",
       "      <td>Zimbabwe</td>\n",
       "      <td>843</td>\n",
       "    </tr>\n",
       "    <tr>\n",
       "      <th>3</th>\n",
       "      <td>Kenya</td>\n",
       "      <td>825</td>\n",
       "    </tr>\n",
       "    <tr>\n",
       "      <th>4</th>\n",
       "      <td>Italy</td>\n",
       "      <td>812</td>\n",
       "    </tr>\n",
       "    <tr>\n",
       "      <th>...</th>\n",
       "      <td>...</td>\n",
       "      <td>...</td>\n",
       "    </tr>\n",
       "    <tr>\n",
       "      <th>98</th>\n",
       "      <td>Denmark</td>\n",
       "      <td>99</td>\n",
       "    </tr>\n",
       "    <tr>\n",
       "      <th>99</th>\n",
       "      <td>Estonia</td>\n",
       "      <td>87</td>\n",
       "    </tr>\n",
       "    <tr>\n",
       "      <th>100</th>\n",
       "      <td>Poland</td>\n",
       "      <td>78</td>\n",
       "    </tr>\n",
       "    <tr>\n",
       "      <th>101</th>\n",
       "      <td>Mongolia</td>\n",
       "      <td>54</td>\n",
       "    </tr>\n",
       "    <tr>\n",
       "      <th>102</th>\n",
       "      <td>Guatemala</td>\n",
       "      <td>40</td>\n",
       "    </tr>\n",
       "  </tbody>\n",
       "</table>\n",
       "<p>103 rows × 2 columns</p>\n",
       "</div>"
      ],
      "text/plain": [
       "       Country  Total_Value_USD_Nulls\n",
       "0        China                   1268\n",
       "1        India                   1125\n",
       "2     Zimbabwe                    843\n",
       "3        Kenya                    825\n",
       "4        Italy                    812\n",
       "..         ...                    ...\n",
       "98     Denmark                     99\n",
       "99     Estonia                     87\n",
       "100     Poland                     78\n",
       "101   Mongolia                     54\n",
       "102  Guatemala                     40\n",
       "\n",
       "[103 rows x 2 columns]"
      ]
     },
     "execution_count": 79,
     "metadata": {},
     "output_type": "execute_result"
    }
   ],
   "source": [
    "countryNA_statement = \"\"\"SELECT * FROM {}.{}\"\"\".format(database_name, country_ViewName)\n",
    "print(countryNA_statement)\n",
    "df_countryNA = pd.read_sql(countryNA_statement, conn)\n",
    "df_countryNA"
   ]
  },
  {
   "cell_type": "markdown",
   "id": "94222d21-0522-49d7-bad9-6aa76de73160",
   "metadata": {},
   "source": [
    "It looks like India may have some issues if we remove the NAs. We'll check to see how many observations are left when we remove NAs.\n",
    "\n",
    "Looks like we'll still be fine leaving India in. "
   ]
  },
  {
   "cell_type": "code",
   "execution_count": 28,
   "id": "25d61fc5-80ba-4ea6-b6ff-6078993fc61e",
   "metadata": {
    "tags": []
   },
   "outputs": [
    {
     "name": "stdout",
     "output_type": "stream",
     "text": [
      "India loses 1125 observations when we take out NAs leaving us with 437 observations left for the country\n"
     ]
    }
   ],
   "source": [
    "df_nona = df.dropna()\n",
    "df_nona_india = df_nona[df_nona['area'] == \"India\"]\n",
    "df_india = df[df['area'] == \"India\"]\n",
    "\n",
    "print(\"India loses\", df_india.shape[0] - df_nona_india.shape[0], \"observations when we take out NAs leaving us with\", df_nona_india.shape[0], \"observations left for the country\")"
   ]
  },
  {
   "cell_type": "markdown",
   "id": "3b0d0425-d03a-44df-9813-9eed94498a0e",
   "metadata": {},
   "source": [
    "### Final clean before modeling \n",
    "As we'll see below, fertilizers are fairly related to each other so we should be able to impute those missing values in a pipeline later. It likely isn't appropriate to impute the large number of missing total_value_usd's, so we will delete those. We also should not need production, value, or year for our final modeling (not doing time series) so we'll create another modeling dataframe here."
   ]
  },
  {
   "cell_type": "code",
   "execution_count": 29,
   "id": "7d5c49e3-3c70-4aaf-b72f-93183c788b0d",
   "metadata": {
    "tags": []
   },
   "outputs": [
    {
     "name": "stdout",
     "output_type": "stream",
     "text": [
      "area                  0\n",
      "item                  0\n",
      "year                  0\n",
      "production            0\n",
      "nitrogen            173\n",
      "phosphate          1376\n",
      "potassium          1615\n",
      "value                 0\n",
      "avg_rain              0\n",
      "avg_temp              0\n",
      "total_value_usd       0\n",
      "lat                   0\n",
      "long                  0\n",
      "dtype: int64\n"
     ]
    }
   ],
   "source": [
    "df_clean = df[df['total_value_usd'].notna()]\n",
    "\n",
    "# Note - we still expect to have nas for fertilizers since we're imputing those\n",
    "nan_count = df_clean.isna().sum()\n",
    "print(nan_count)"
   ]
  },
  {
   "cell_type": "code",
   "execution_count": null,
   "id": "e2290a49-6b18-49de-a73f-4c4d4336888e",
   "metadata": {
    "tags": []
   },
   "outputs": [],
   "source": [
    "df_model = df_clean.drop(columns = ['year', 'production', 'value'], axis = 1)"
   ]
  },
  {
   "cell_type": "markdown",
   "id": "ea3c9ed6-b38d-4e37-b8ac-f123356bb2ca",
   "metadata": {},
   "source": [
    "## Target Variable - total_value_usd \n",
    "The target variable is the production (in tonnes) multiplied by the value (United States Dollar per tonne).\n",
    "\n",
    "### Distribution \n",
    "Our target is very skewed to the right. Not suprising given that some crops likely produce a lot more value than most (for example corn in the USA is likely very high valued). Need to consider scaling after splitting."
   ]
  },
  {
   "cell_type": "code",
   "execution_count": null,
   "id": "98221145-8e04-440f-b8e8-e15ff5706e11",
   "metadata": {
    "tags": []
   },
   "outputs": [],
   "source": [
    "sns.set(style = \"darkgrid\")\n",
    "sns.distplot(a = df_clean['total_value_usd']/1_000_000, hist = False, kde = True, rug = False)\n",
    "plt.xlabel(\"Total Value - Millions of USD\")\n",
    "plt.ylabel(\"Density\")\n",
    "plt.title(\"Distribution of target variable - total_value_usd\")\n",
    "plt.show()"
   ]
  },
  {
   "cell_type": "markdown",
   "id": "f2a29be9-a22e-421b-9acd-47842fdfa391",
   "metadata": {},
   "source": [
    "## Numeric Predictors \n",
    "The numeric predictors include the fertilizers used for agricultural purposes (nitrogen, phosphate, and potassium) and the weather featrues (avg_temp and avg_rain)"
   ]
  },
  {
   "cell_type": "markdown",
   "id": "f1465d99-7c1e-4aeb-962e-b10c82724d47",
   "metadata": {},
   "source": [
    "Fertilizer Distributions -\n",
    "Still skewed heavily to the right, we'll likely need to make pipeline to standardize all numeric features"
   ]
  },
  {
   "cell_type": "code",
   "execution_count": null,
   "id": "e2439f28-5cf6-417b-b20a-14d6cc217a4b",
   "metadata": {
    "tags": []
   },
   "outputs": [],
   "source": [
    "fig, axes = plt.subplots(1,3, figsize=(16,10))\n",
    "\n",
    "fig.suptitle(\"Distributions of Fertilizer Uses for Agriculture (in thousands of tonnes)\")\n",
    "\n",
    "sns.distplot(ax = axes[0], a = df_clean['nitrogen']/1_000, hist = False, kde = True, rug = False)\n",
    "sns.distplot(ax = axes[1], a = df_clean['phosphate']/1_000, hist = False, kde = True, rug = False)\n",
    "sns.distplot(ax = axes[2], a = df_clean['potassium']/1_000, hist = False, kde = True, rug = False)\n",
    "\n",
    "plt.show()\n"
   ]
  },
  {
   "cell_type": "markdown",
   "id": "d09d877b-f45e-442c-8704-566d4e407bc2",
   "metadata": {},
   "source": [
    "Weather Predictors - These Look a lot better than other variables, regardless a standardization pipeline that works on all numeric features is still probbaly the most efficient option."
   ]
  },
  {
   "cell_type": "code",
   "execution_count": null,
   "id": "b95d3712-9e89-4de7-8022-661376e374b4",
   "metadata": {
    "tags": []
   },
   "outputs": [],
   "source": [
    "fig, axes = plt.subplots(1,2, figsize=(16,10))\n",
    "\n",
    "fig.suptitle(\"Distribution of Weather Predictors\")\n",
    "\n",
    "sns.distplot(ax = axes[0], a = df_clean['avg_rain'], hist = False, kde = True, rug = False)\n",
    "sns.distplot(ax = axes[1], a = df_clean['avg_temp'], hist = False, kde = True, rug = False)\n",
    "\n",
    "plt.show()"
   ]
  },
  {
   "cell_type": "markdown",
   "id": "a0099805-3912-4c8e-b93d-075f49e6b20a",
   "metadata": {},
   "source": [
    "Correlation Matrix for Numeric Features"
   ]
  },
  {
   "cell_type": "code",
   "execution_count": null,
   "id": "454efcba-6c24-47cc-97d1-38bb4f374403",
   "metadata": {
    "tags": []
   },
   "outputs": [],
   "source": [
    "df_numeric = df_clean.select_dtypes(['int64', 'float64'])\n",
    "df_numeric = df_numeric.drop(columns=['year', 'production', 'value'], axis=1)\n",
    "df_numeric_nona = df_numeric.dropna()\n",
    "\n",
    "\n",
    "plt.clf()\n",
    "sns.heatmap(df_numeric_nona.corr(), vmin= -1, vmax=1, annot=True)\n",
    "plt.show()"
   ]
  },
  {
   "cell_type": "markdown",
   "id": "7db0e9ba-7b40-4c8c-a24f-6ddf5cb9cd7f",
   "metadata": {},
   "source": [
    "## Maps\n",
    "Doing the maps down here since we have NAs sorted out now.\n",
    "\n",
    "Bring in our world data"
   ]
  },
  {
   "cell_type": "code",
   "execution_count": null,
   "id": "2a9994ab-7732-49a3-8dc7-09dc8dbec264",
   "metadata": {
    "tags": []
   },
   "outputs": [],
   "source": [
    "world = geopandas.read_file(geopandas.datasets.get_path('naturalearth_lowres'))\n",
    "world_geo = pd.merge(df, world, how=\"inner\", left_on=['area'], right_on=['name']).reset_index()\n",
    "world_geo.head()"
   ]
  },
  {
   "cell_type": "markdown",
   "id": "443dddac-a65d-4421-b698-fa8326db1c12",
   "metadata": {},
   "source": [
    "### Highest Ag Value 1991-2013"
   ]
  },
  {
   "cell_type": "code",
   "execution_count": null,
   "id": "dd7055a9-af4e-4998-b1fe-059608f0a384",
   "metadata": {
    "tags": []
   },
   "outputs": [],
   "source": [
    "val_country = world_geo.groupby(by=\"area\")[\"total_value_usd\"].sum()\n",
    "geos = world_geo['geometry'].unique()\n",
    "\n",
    "val_country = pd.DataFrame(list(zip(countries,val_country, geos)),\n",
    "                           columns=['country', 'value', 'geometry'])\n",
    "val_country.head()\n",
    "\n",
    "gdf_value = geopandas.GeoDataFrame(\n",
    "    val_country, geometry = val_country.geometry\n",
    ")\n",
    "\n",
    "gdf_value.head()"
   ]
  },
  {
   "cell_type": "code",
   "execution_count": null,
   "id": "22350648-08c4-4253-991e-0c0165a49187",
   "metadata": {
    "tags": []
   },
   "outputs": [],
   "source": [
    "gdf_value['value'] = gdf_value[['value']]/1_000_000_000_000"
   ]
  },
  {
   "cell_type": "code",
   "execution_count": null,
   "id": "72912fec-06ed-4ed9-9807-d019a920fcd8",
   "metadata": {
    "tags": []
   },
   "outputs": [],
   "source": [
    "plt.clf()\n",
    "\n",
    "base = world.plot(color = \"white\", edgecolor = 'black')\n",
    "\n",
    "gdf_value.plot(ax = base, column = \"value\",legend = True, cmap = \"viridis\",\n",
    "               legend_kwds={'label': \"Total Agricultural Value Produced 1991-2013 (Trillions of USD)\",\n",
    "                            'orientation':\"horizontal\"})\n",
    "plt.show()\n",
    "\n"
   ]
  },
  {
   "cell_type": "markdown",
   "id": "3dbb4497-f1fc-4a3c-88e9-68501c3ddd64",
   "metadata": {},
   "source": [
    "### Avg. Temperatures"
   ]
  },
  {
   "cell_type": "code",
   "execution_count": null,
   "id": "710f5c62-ff8e-49f2-a44e-d60aaa2d19d5",
   "metadata": {
    "tags": []
   },
   "outputs": [],
   "source": [
    "# Taking mean of mean should be okay since our sample sizes are the same\n",
    "temps = world_geo.groupby(by=\"area\")[\"avg_temp\"].mean()\n",
    "geos = world_geo['geometry'].unique()\n",
    "\n",
    "val_country = pd.DataFrame(list(zip(countries,temps, geos)),\n",
    "                           columns=['country', 'value', 'geometry'])\n",
    "\n",
    "gdf_temp = geopandas.GeoDataFrame(\n",
    "    val_country, geometry = val_country.geometry\n",
    ")\n",
    "\n",
    "plt.clf()\n",
    "\n",
    "base = world.plot(color = \"white\", edgecolor = 'black')\n",
    "\n",
    "gdf_temp.plot(ax = base, column = \"value\",legend = True, cmap = \"viridis\",\n",
    "               legend_kwds={'label': \"Mean Temperatures (C) 1991-2013\",\n",
    "                            'orientation':\"horizontal\"})\n",
    "plt.show()"
   ]
  },
  {
   "cell_type": "markdown",
   "id": "edb6d980-e86e-45aa-a072-e993f5f2475f",
   "metadata": {},
   "source": [
    "### Avg. Rainfall"
   ]
  },
  {
   "cell_type": "code",
   "execution_count": null,
   "id": "95d8e7ba-e1e6-4fb5-a3be-89a25b418037",
   "metadata": {
    "tags": []
   },
   "outputs": [],
   "source": [
    "# Taking mean of mean should be okay since our sample sizes are the same\n",
    "rain = world_geo.groupby(by=\"area\")[\"avg_rain\"].mean()\n",
    "geos = world_geo['geometry'].unique()\n",
    "\n",
    "val_country = pd.DataFrame(list(zip(countries,rain, geos)),\n",
    "                           columns=['country', 'value', 'geometry'])\n",
    "\n",
    "gdf_rain = geopandas.GeoDataFrame(\n",
    "    val_country, geometry = val_country.geometry\n",
    ")\n",
    "\n",
    "plt.clf()\n",
    "\n",
    "base = world.plot(color = \"white\", edgecolor = 'black')\n",
    "\n",
    "gdf_rain.plot(ax = base, column = \"value\",legend = True, cmap = \"viridis\",\n",
    "               legend_kwds={'label': \"Mean Rainfall (mm) 1991-2013\",\n",
    "                            'orientation':\"horizontal\"})\n",
    "plt.show()"
   ]
  },
  {
   "cell_type": "markdown",
   "id": "1c1b7d02-eee1-450c-ad91-5d26f390de0f",
   "metadata": {},
   "source": [
    "### Nitrogen for Ag Use"
   ]
  },
  {
   "cell_type": "code",
   "execution_count": null,
   "id": "6eeeecbb-67dc-4d46-82d5-636d508819ef",
   "metadata": {
    "tags": []
   },
   "outputs": [],
   "source": [
    "nit = world_geo.groupby(by=\"area\")[\"nitrogen\"].mean()\n",
    "geos = world_geo['geometry'].unique()\n",
    "\n",
    "val_country = pd.DataFrame(list(zip(countries,nit, geos)),\n",
    "                           columns=['country', 'value', 'geometry'])\n",
    "\n",
    "gdf_nitrogen = geopandas.GeoDataFrame(\n",
    "    val_country, geometry = val_country.geometry\n",
    ")\n",
    "\n"
   ]
  },
  {
   "cell_type": "code",
   "execution_count": null,
   "id": "80480d80-1a19-4b1b-a00d-b646f97dd1f5",
   "metadata": {
    "tags": []
   },
   "outputs": [],
   "source": [
    "gdf_nitrogen['value'] = gdf_nitrogen[['value']]/1_000_000"
   ]
  },
  {
   "cell_type": "code",
   "execution_count": null,
   "id": "bd631dbc-e2f2-40d7-9be4-e98a9d903151",
   "metadata": {
    "tags": []
   },
   "outputs": [],
   "source": [
    "plt.clf()\n",
    "\n",
    "base = world.plot(color = \"white\", edgecolor = 'black')\n",
    "\n",
    "gdf_nitrogen.plot(ax = base, column = \"value\",legend = True, cmap = \"viridis\",\n",
    "               legend_kwds={'label': \"Mean Nitrogen for Agriculture use (millions of tonnes) 1991-2013\",\n",
    "                            'orientation':\"horizontal\"})\n",
    "plt.show()"
   ]
  },
  {
   "cell_type": "markdown",
   "id": "13738f6f-ad15-48db-bd37-2a203fdbeada",
   "metadata": {},
   "source": [
    "### Phosphate"
   ]
  },
  {
   "cell_type": "code",
   "execution_count": null,
   "id": "e3c8a4b7-4a17-4bf8-9d79-84fcf5552f8e",
   "metadata": {
    "tags": []
   },
   "outputs": [],
   "source": [
    "phos = world_geo.groupby(by=\"area\")[\"phosphate\"].mean()\n",
    "geos = world_geo['geometry'].unique()\n",
    "\n",
    "val_country = pd.DataFrame(list(zip(countries,phos, geos)),\n",
    "                           columns=['country', 'value', 'geometry'])\n",
    "\n",
    "gdf_phos = geopandas.GeoDataFrame(\n",
    "    val_country, geometry = val_country.geometry\n",
    ")"
   ]
  },
  {
   "cell_type": "code",
   "execution_count": null,
   "id": "23945534-97f3-419a-bb76-e96b93296380",
   "metadata": {
    "tags": []
   },
   "outputs": [],
   "source": [
    "gdf_phos['value'] = gdf_phos[['value']]/1_000_000"
   ]
  },
  {
   "cell_type": "code",
   "execution_count": null,
   "id": "7cc1257f-cb79-4725-b5fd-5dce62b9b270",
   "metadata": {
    "tags": []
   },
   "outputs": [],
   "source": [
    "plt.clf()\n",
    "\n",
    "base = world.plot(color = \"white\", edgecolor = 'black')\n",
    "\n",
    "gdf_phos.plot(ax = base, column = \"value\",legend = True, cmap = \"viridis\",\n",
    "               legend_kwds={'label': \"Mean Phosphate for Agriculture use (millions of tonnes) 1991-2013\",\n",
    "                            'orientation':\"horizontal\"})\n",
    "plt.show()"
   ]
  },
  {
   "cell_type": "markdown",
   "id": "e0084c2a-eab3-44a9-b293-d327f87dd623",
   "metadata": {},
   "source": [
    "### Potassium"
   ]
  },
  {
   "cell_type": "code",
   "execution_count": null,
   "id": "4b1f2814-c2b6-4fbf-980b-9f692a7ad71d",
   "metadata": {
    "tags": []
   },
   "outputs": [],
   "source": [
    "pot= world_geo.groupby(by=\"area\")[\"potassium\"].mean()\n",
    "geos = world_geo['geometry'].unique()\n",
    "\n",
    "val_country = pd.DataFrame(list(zip(countries,pot, geos)),\n",
    "                           columns=['country', 'value', 'geometry'])\n",
    "\n",
    "gdf_pot = geopandas.GeoDataFrame(\n",
    "    val_country, geometry = val_country.geometry\n",
    ")"
   ]
  },
  {
   "cell_type": "code",
   "execution_count": null,
   "id": "1b9b24d7-b624-4d00-9389-00e6a0d03010",
   "metadata": {
    "tags": []
   },
   "outputs": [],
   "source": [
    "gdf_pot['value'] = gdf_pot[['value']]/1_000_000"
   ]
  },
  {
   "cell_type": "code",
   "execution_count": null,
   "id": "ce8c74c2-c031-4d0d-8b40-296b11afa6ce",
   "metadata": {
    "tags": []
   },
   "outputs": [],
   "source": [
    "plt.clf()\n",
    "\n",
    "base = world.plot(color = \"white\", edgecolor = 'black')\n",
    "\n",
    "gdf_pot.plot(ax = base, column = \"value\",legend = True, cmap = \"viridis\",\n",
    "               legend_kwds={'label': \"Mean Potassium for Agriculture use (millions of tonnes) 1991-2013\",\n",
    "                            'orientation':\"horizontal\"})\n",
    "plt.show()"
   ]
  },
  {
   "cell_type": "markdown",
   "id": "a37866a2-f92d-4902-953d-c42996c6b85c",
   "metadata": {},
   "source": [
    "## Categorical Anaylsis"
   ]
  },
  {
   "cell_type": "markdown",
   "id": "1522a3e6-b77b-4a69-b10a-4eb80ee714c2",
   "metadata": {},
   "source": [
    "#### \"Area\" and \"item\" are the only categorical variables"
   ]
  },
  {
   "cell_type": "code",
   "execution_count": null,
   "id": "ef256e0e-8b27-4964-bfa7-53689aa83490",
   "metadata": {
    "tags": []
   },
   "outputs": [],
   "source": [
    "cat_df = pd.DataFrame(df, columns =['area', 'item'])\n",
    "cat_df.head()"
   ]
  },
  {
   "cell_type": "markdown",
   "id": "3947b28b-4a3a-4da2-9225-37e3df192f54",
   "metadata": {},
   "source": [
    "### \"area\" EDA:"
   ]
  },
  {
   "cell_type": "code",
   "execution_count": null,
   "id": "d2ae3087-2799-4c65-8d28-4c94b57eb68f",
   "metadata": {
    "tags": []
   },
   "outputs": [],
   "source": [
    "#Finding the count of countries that are in the Area column:\n",
    "\n",
    "print (\"There are\", cat_df['area'].nunique(), \"different areas/countries in the dataset\")"
   ]
  },
  {
   "cell_type": "code",
   "execution_count": null,
   "id": "117037f6-276d-49df-940e-1dbf5b59cf4d",
   "metadata": {
    "tags": []
   },
   "outputs": [],
   "source": [
    "#examining unique values of countries that are in the dataset\n",
    "cat_df['area'].unique()\n"
   ]
  },
  {
   "cell_type": "markdown",
   "id": "5250d60c-405a-460d-a9e0-c05fa994dc86",
   "metadata": {},
   "source": [
    "#### Might be useful to create a reference dataframe/table for the areas column:"
   ]
  },
  {
   "cell_type": "code",
   "execution_count": null,
   "id": "b31d3223-c6dd-4aab-87fe-02401845604a",
   "metadata": {
    "tags": []
   },
   "outputs": [],
   "source": [
    "countries_df = pd.DataFrame(cat_df['area'].unique())\n",
    "\n",
    "countries_df.head()"
   ]
  },
  {
   "cell_type": "code",
   "execution_count": null,
   "id": "fe6e28ea-e795-4ac7-89b5-326bcd56f5b6",
   "metadata": {
    "tags": []
   },
   "outputs": [],
   "source": [
    "#frequency of each country: \n",
    "cat_df['area'].value_counts().head(10).plot(kind='barh', figsize=(20,10), title= 'Top 10 Countries With Most Rows of Data', xlabel='Count', ylabel='Country', color = 'teal')\n",
    "plt.show()"
   ]
  },
  {
   "cell_type": "markdown",
   "id": "60bd5f12-6e2d-46c5-b2a4-b33bfef2ceaf",
   "metadata": {},
   "source": [
    "#### Countries with most rows of data include India, Mexico, Brazil & Australia"
   ]
  },
  {
   "cell_type": "code",
   "execution_count": null,
   "id": "9de8d32b-a648-4b6c-a1d0-8260485e82b8",
   "metadata": {
    "tags": []
   },
   "outputs": [],
   "source": [
    "#Total production based on country\n",
    "p_country = df.production.groupby(df['area']).sum().astype(int).reset_index(name=\"sum\")\n",
    "p_country = p_country.sort_values(by=['sum'], ascending=False).head(10)\n",
    "\n",
    "p_country\n",
    "\n",
    "p_country.plot(kind='barh', figsize=(20,10), title= 'Top 10 Producing Countries', x=('area'), y = ('sum'), xlabel='Production Count', ylabel='Country', color = 'teal')\n",
    "plt.show()\n"
   ]
  },
  {
   "cell_type": "markdown",
   "id": "abdeddb4-928c-42a9-ba11-96de28f446e8",
   "metadata": {},
   "source": [
    "#### countries with most production are India, Brazil, Indonesia, and Mexico"
   ]
  },
  {
   "cell_type": "code",
   "execution_count": null,
   "id": "0bf58763-c485-4ef3-b678-e8ab9d3af56b",
   "metadata": {
    "tags": []
   },
   "outputs": [],
   "source": [
    "#Total value usd based on country\n",
    "usd_country = df.total_value_usd.groupby(df['area']).sum().astype(int).reset_index(name=\"sum\")\n",
    "usd_country = usd_country.sort_values(by=['sum'], ascending=False).head(10)\n",
    "\n",
    "usd_country.head()\n",
    "\n",
    "usd_country.plot(kind='barh', figsize=(20,10), title= 'Top 10 Countries With Most Total Value', x=('area'), y = ('sum'), xlabel='Total Value (USD)', ylabel='Country', color = 'teal')\n",
    "plt.show()\n"
   ]
  },
  {
   "cell_type": "markdown",
   "id": "ab9e2f7b-20cd-49f1-9d2a-2acdcfe4addd",
   "metadata": {},
   "source": [
    "#### Countries with highest total value USD include India, Brazil, Japan, Mexico. "
   ]
  },
  {
   "cell_type": "markdown",
   "id": "8e0ded67-7fe4-47a4-9296-bb50283cb2f1",
   "metadata": {},
   "source": [
    "### \"Item\" EDA"
   ]
  },
  {
   "cell_type": "code",
   "execution_count": null,
   "id": "1796458f-abf4-4882-950b-535283d03605",
   "metadata": {
    "tags": []
   },
   "outputs": [],
   "source": [
    "#Finding the count of Items that are in the Item column:\n",
    "\n",
    "print (\"There are\", cat_df['item'].nunique(), \"different produce items in the dataset\")"
   ]
  },
  {
   "cell_type": "code",
   "execution_count": null,
   "id": "1d761d0c-3b1b-4214-a1f3-eb36f770d01d",
   "metadata": {
    "tags": []
   },
   "outputs": [],
   "source": [
    "#examining unique to view different item types that are in the dataset\n",
    "items = pd.DataFrame(cat_df['item'].unique())\n",
    "items.head()"
   ]
  },
  {
   "cell_type": "code",
   "execution_count": null,
   "id": "9191a4ea-6d1c-42c3-a17f-cbc16533e2c4",
   "metadata": {
    "tags": []
   },
   "outputs": [],
   "source": [
    "#frequency of each item: \n",
    "cat_df['item'].value_counts().head(10).plot(kind='barh', figsize=(20,10), title= 'Top 10 Items With Most Rows of Data', xlabel='Count', ylabel='Item', color = 'teal')\n",
    "plt.show()"
   ]
  },
  {
   "cell_type": "markdown",
   "id": "ae63d317-f989-4421-9e69-386a47d1abbf",
   "metadata": {},
   "source": [
    "#### Top items with most rows of data are hen eggs in shell fresh, raw milk of acttle, potatoes, tomatoes, maize corn, etc. "
   ]
  },
  {
   "cell_type": "code",
   "execution_count": null,
   "id": "3c58d166-655f-4fab-a26e-04f816ca95fd",
   "metadata": {
    "tags": []
   },
   "outputs": [],
   "source": [
    "#Total production based on country\n",
    "I_country = df.production.groupby(df['item']).sum().astype(int).reset_index(name=\"sum\")\n",
    "I_country = I_country.sort_values(by=['sum'], ascending=False).head(10)\n",
    "\n",
    "I_country.plot(kind='barh', figsize=(20,10), title= 'Top 10 Produced Items', x=('item'), y = ('sum'), xlabel='Production Count', ylabel='Item', color = 'teal')\n",
    "plt.show()"
   ]
  },
  {
   "cell_type": "markdown",
   "id": "fe2ee448-02f8-4cf5-a85c-c943169a35d1",
   "metadata": {},
   "source": [
    "#### Top produced items include sugar cane, rice, hen eggs in shell fresh & wheat. "
   ]
  },
  {
   "cell_type": "code",
   "execution_count": null,
   "id": "7130f0e9-45b2-46b6-9c81-3ae95864f40a",
   "metadata": {
    "tags": []
   },
   "outputs": [],
   "source": [
    "#Total value usd based on Item\n",
    "usd_item = df.total_value_usd.groupby(df['item']).sum().astype(int).reset_index(name=\"sum\")\n",
    "usd_item = usd_item.sort_values(by=['sum'], ascending=False).head(10)\n",
    "\n",
    "\n",
    "usd_item.plot(kind='barh', figsize=(20,10), title= 'Top 10 Items With Most Total Value', x=('item'), y = ('sum'), xlabel='Total Value (USD)', ylabel='Items', color = 'teal')\n",
    "plt.show()"
   ]
  },
  {
   "cell_type": "markdown",
   "id": "2a0c0ca1-c540-449e-b780-60b3f4b38ef9",
   "metadata": {},
   "source": [
    "#### Items that have highest total value USD include hen eggs in shell fresh, rice, wheat, raw milk of cattle, etc. "
   ]
  },
  {
   "cell_type": "code",
   "execution_count": null,
   "id": "5afa90ba-9dd6-4e71-9364-63f646fd9d6d",
   "metadata": {},
   "outputs": [],
   "source": []
  },
  {
   "cell_type": "code",
   "execution_count": null,
   "id": "56029730-decc-4a09-a117-611c0116650e",
   "metadata": {},
   "outputs": [],
   "source": []
  },
  {
   "cell_type": "code",
   "execution_count": null,
   "id": "25d7fcf6-7f1f-4cd4-8414-21a573abaec8",
   "metadata": {},
   "outputs": [],
   "source": []
  },
  {
   "cell_type": "code",
   "execution_count": null,
   "id": "55f1f1c6-f3e9-4ab1-b179-127155662dbb",
   "metadata": {},
   "outputs": [],
   "source": []
  }
 ],
 "metadata": {
  "availableInstances": [
   {
    "_defaultOrder": 0,
    "_isFastLaunch": true,
    "category": "General purpose",
    "gpuNum": 0,
    "memoryGiB": 4,
    "name": "ml.t3.medium",
    "vcpuNum": 2
   },
   {
    "_defaultOrder": 1,
    "_isFastLaunch": false,
    "category": "General purpose",
    "gpuNum": 0,
    "memoryGiB": 8,
    "name": "ml.t3.large",
    "vcpuNum": 2
   },
   {
    "_defaultOrder": 2,
    "_isFastLaunch": false,
    "category": "General purpose",
    "gpuNum": 0,
    "memoryGiB": 16,
    "name": "ml.t3.xlarge",
    "vcpuNum": 4
   },
   {
    "_defaultOrder": 3,
    "_isFastLaunch": false,
    "category": "General purpose",
    "gpuNum": 0,
    "memoryGiB": 32,
    "name": "ml.t3.2xlarge",
    "vcpuNum": 8
   },
   {
    "_defaultOrder": 4,
    "_isFastLaunch": true,
    "category": "General purpose",
    "gpuNum": 0,
    "memoryGiB": 8,
    "name": "ml.m5.large",
    "vcpuNum": 2
   },
   {
    "_defaultOrder": 5,
    "_isFastLaunch": false,
    "category": "General purpose",
    "gpuNum": 0,
    "memoryGiB": 16,
    "name": "ml.m5.xlarge",
    "vcpuNum": 4
   },
   {
    "_defaultOrder": 6,
    "_isFastLaunch": false,
    "category": "General purpose",
    "gpuNum": 0,
    "memoryGiB": 32,
    "name": "ml.m5.2xlarge",
    "vcpuNum": 8
   },
   {
    "_defaultOrder": 7,
    "_isFastLaunch": false,
    "category": "General purpose",
    "gpuNum": 0,
    "memoryGiB": 64,
    "name": "ml.m5.4xlarge",
    "vcpuNum": 16
   },
   {
    "_defaultOrder": 8,
    "_isFastLaunch": false,
    "category": "General purpose",
    "gpuNum": 0,
    "memoryGiB": 128,
    "name": "ml.m5.8xlarge",
    "vcpuNum": 32
   },
   {
    "_defaultOrder": 9,
    "_isFastLaunch": false,
    "category": "General purpose",
    "gpuNum": 0,
    "memoryGiB": 192,
    "name": "ml.m5.12xlarge",
    "vcpuNum": 48
   },
   {
    "_defaultOrder": 10,
    "_isFastLaunch": false,
    "category": "General purpose",
    "gpuNum": 0,
    "memoryGiB": 256,
    "name": "ml.m5.16xlarge",
    "vcpuNum": 64
   },
   {
    "_defaultOrder": 11,
    "_isFastLaunch": false,
    "category": "General purpose",
    "gpuNum": 0,
    "memoryGiB": 384,
    "name": "ml.m5.24xlarge",
    "vcpuNum": 96
   },
   {
    "_defaultOrder": 12,
    "_isFastLaunch": false,
    "category": "General purpose",
    "gpuNum": 0,
    "memoryGiB": 8,
    "name": "ml.m5d.large",
    "vcpuNum": 2
   },
   {
    "_defaultOrder": 13,
    "_isFastLaunch": false,
    "category": "General purpose",
    "gpuNum": 0,
    "memoryGiB": 16,
    "name": "ml.m5d.xlarge",
    "vcpuNum": 4
   },
   {
    "_defaultOrder": 14,
    "_isFastLaunch": false,
    "category": "General purpose",
    "gpuNum": 0,
    "memoryGiB": 32,
    "name": "ml.m5d.2xlarge",
    "vcpuNum": 8
   },
   {
    "_defaultOrder": 15,
    "_isFastLaunch": false,
    "category": "General purpose",
    "gpuNum": 0,
    "memoryGiB": 64,
    "name": "ml.m5d.4xlarge",
    "vcpuNum": 16
   },
   {
    "_defaultOrder": 16,
    "_isFastLaunch": false,
    "category": "General purpose",
    "gpuNum": 0,
    "memoryGiB": 128,
    "name": "ml.m5d.8xlarge",
    "vcpuNum": 32
   },
   {
    "_defaultOrder": 17,
    "_isFastLaunch": false,
    "category": "General purpose",
    "gpuNum": 0,
    "memoryGiB": 192,
    "name": "ml.m5d.12xlarge",
    "vcpuNum": 48
   },
   {
    "_defaultOrder": 18,
    "_isFastLaunch": false,
    "category": "General purpose",
    "gpuNum": 0,
    "memoryGiB": 256,
    "name": "ml.m5d.16xlarge",
    "vcpuNum": 64
   },
   {
    "_defaultOrder": 19,
    "_isFastLaunch": false,
    "category": "General purpose",
    "gpuNum": 0,
    "memoryGiB": 384,
    "name": "ml.m5d.24xlarge",
    "vcpuNum": 96
   },
   {
    "_defaultOrder": 20,
    "_isFastLaunch": true,
    "category": "Compute optimized",
    "gpuNum": 0,
    "memoryGiB": 4,
    "name": "ml.c5.large",
    "vcpuNum": 2
   },
   {
    "_defaultOrder": 21,
    "_isFastLaunch": false,
    "category": "Compute optimized",
    "gpuNum": 0,
    "memoryGiB": 8,
    "name": "ml.c5.xlarge",
    "vcpuNum": 4
   },
   {
    "_defaultOrder": 22,
    "_isFastLaunch": false,
    "category": "Compute optimized",
    "gpuNum": 0,
    "memoryGiB": 16,
    "name": "ml.c5.2xlarge",
    "vcpuNum": 8
   },
   {
    "_defaultOrder": 23,
    "_isFastLaunch": false,
    "category": "Compute optimized",
    "gpuNum": 0,
    "memoryGiB": 32,
    "name": "ml.c5.4xlarge",
    "vcpuNum": 16
   },
   {
    "_defaultOrder": 24,
    "_isFastLaunch": false,
    "category": "Compute optimized",
    "gpuNum": 0,
    "memoryGiB": 72,
    "name": "ml.c5.9xlarge",
    "vcpuNum": 36
   },
   {
    "_defaultOrder": 25,
    "_isFastLaunch": false,
    "category": "Compute optimized",
    "gpuNum": 0,
    "memoryGiB": 96,
    "name": "ml.c5.12xlarge",
    "vcpuNum": 48
   },
   {
    "_defaultOrder": 26,
    "_isFastLaunch": false,
    "category": "Compute optimized",
    "gpuNum": 0,
    "memoryGiB": 144,
    "name": "ml.c5.18xlarge",
    "vcpuNum": 72
   },
   {
    "_defaultOrder": 27,
    "_isFastLaunch": false,
    "category": "Compute optimized",
    "gpuNum": 0,
    "memoryGiB": 192,
    "name": "ml.c5.24xlarge",
    "vcpuNum": 96
   },
   {
    "_defaultOrder": 28,
    "_isFastLaunch": true,
    "category": "Accelerated computing",
    "gpuNum": 1,
    "memoryGiB": 16,
    "name": "ml.g4dn.xlarge",
    "vcpuNum": 4
   },
   {
    "_defaultOrder": 29,
    "_isFastLaunch": false,
    "category": "Accelerated computing",
    "gpuNum": 1,
    "memoryGiB": 32,
    "name": "ml.g4dn.2xlarge",
    "vcpuNum": 8
   },
   {
    "_defaultOrder": 30,
    "_isFastLaunch": false,
    "category": "Accelerated computing",
    "gpuNum": 1,
    "memoryGiB": 64,
    "name": "ml.g4dn.4xlarge",
    "vcpuNum": 16
   },
   {
    "_defaultOrder": 31,
    "_isFastLaunch": false,
    "category": "Accelerated computing",
    "gpuNum": 1,
    "memoryGiB": 128,
    "name": "ml.g4dn.8xlarge",
    "vcpuNum": 32
   },
   {
    "_defaultOrder": 32,
    "_isFastLaunch": false,
    "category": "Accelerated computing",
    "gpuNum": 4,
    "memoryGiB": 192,
    "name": "ml.g4dn.12xlarge",
    "vcpuNum": 48
   },
   {
    "_defaultOrder": 33,
    "_isFastLaunch": false,
    "category": "Accelerated computing",
    "gpuNum": 1,
    "memoryGiB": 256,
    "name": "ml.g4dn.16xlarge",
    "vcpuNum": 64
   },
   {
    "_defaultOrder": 34,
    "_isFastLaunch": false,
    "category": "Accelerated computing",
    "gpuNum": 1,
    "memoryGiB": 61,
    "name": "ml.p3.2xlarge",
    "vcpuNum": 8
   },
   {
    "_defaultOrder": 35,
    "_isFastLaunch": false,
    "category": "Accelerated computing",
    "gpuNum": 4,
    "memoryGiB": 244,
    "name": "ml.p3.8xlarge",
    "vcpuNum": 32
   },
   {
    "_defaultOrder": 36,
    "_isFastLaunch": false,
    "category": "Accelerated computing",
    "gpuNum": 8,
    "memoryGiB": 488,
    "name": "ml.p3.16xlarge",
    "vcpuNum": 64
   },
   {
    "_defaultOrder": 37,
    "_isFastLaunch": false,
    "category": "Accelerated computing",
    "gpuNum": 8,
    "memoryGiB": 768,
    "name": "ml.p3dn.24xlarge",
    "vcpuNum": 96
   },
   {
    "_defaultOrder": 38,
    "_isFastLaunch": false,
    "category": "Memory Optimized",
    "gpuNum": 0,
    "memoryGiB": 16,
    "name": "ml.r5.large",
    "vcpuNum": 2
   },
   {
    "_defaultOrder": 39,
    "_isFastLaunch": false,
    "category": "Memory Optimized",
    "gpuNum": 0,
    "memoryGiB": 32,
    "name": "ml.r5.xlarge",
    "vcpuNum": 4
   },
   {
    "_defaultOrder": 40,
    "_isFastLaunch": false,
    "category": "Memory Optimized",
    "gpuNum": 0,
    "memoryGiB": 64,
    "name": "ml.r5.2xlarge",
    "vcpuNum": 8
   },
   {
    "_defaultOrder": 41,
    "_isFastLaunch": false,
    "category": "Memory Optimized",
    "gpuNum": 0,
    "memoryGiB": 128,
    "name": "ml.r5.4xlarge",
    "vcpuNum": 16
   },
   {
    "_defaultOrder": 42,
    "_isFastLaunch": false,
    "category": "Memory Optimized",
    "gpuNum": 0,
    "memoryGiB": 256,
    "name": "ml.r5.8xlarge",
    "vcpuNum": 32
   },
   {
    "_defaultOrder": 43,
    "_isFastLaunch": false,
    "category": "Memory Optimized",
    "gpuNum": 0,
    "memoryGiB": 384,
    "name": "ml.r5.12xlarge",
    "vcpuNum": 48
   },
   {
    "_defaultOrder": 44,
    "_isFastLaunch": false,
    "category": "Memory Optimized",
    "gpuNum": 0,
    "memoryGiB": 512,
    "name": "ml.r5.16xlarge",
    "vcpuNum": 64
   },
   {
    "_defaultOrder": 45,
    "_isFastLaunch": false,
    "category": "Memory Optimized",
    "gpuNum": 0,
    "memoryGiB": 768,
    "name": "ml.r5.24xlarge",
    "vcpuNum": 96
   },
   {
    "_defaultOrder": 46,
    "_isFastLaunch": false,
    "category": "Accelerated computing",
    "gpuNum": 1,
    "memoryGiB": 16,
    "name": "ml.g5.xlarge",
    "vcpuNum": 4
   },
   {
    "_defaultOrder": 47,
    "_isFastLaunch": false,
    "category": "Accelerated computing",
    "gpuNum": 1,
    "memoryGiB": 32,
    "name": "ml.g5.2xlarge",
    "vcpuNum": 8
   },
   {
    "_defaultOrder": 48,
    "_isFastLaunch": false,
    "category": "Accelerated computing",
    "gpuNum": 1,
    "memoryGiB": 64,
    "name": "ml.g5.4xlarge",
    "vcpuNum": 16
   },
   {
    "_defaultOrder": 49,
    "_isFastLaunch": false,
    "category": "Accelerated computing",
    "gpuNum": 1,
    "memoryGiB": 128,
    "name": "ml.g5.8xlarge",
    "vcpuNum": 32
   },
   {
    "_defaultOrder": 50,
    "_isFastLaunch": false,
    "category": "Accelerated computing",
    "gpuNum": 1,
    "memoryGiB": 256,
    "name": "ml.g5.16xlarge",
    "vcpuNum": 64
   },
   {
    "_defaultOrder": 51,
    "_isFastLaunch": false,
    "category": "Accelerated computing",
    "gpuNum": 4,
    "memoryGiB": 192,
    "name": "ml.g5.12xlarge",
    "vcpuNum": 48
   },
   {
    "_defaultOrder": 52,
    "_isFastLaunch": false,
    "category": "Accelerated computing",
    "gpuNum": 4,
    "memoryGiB": 384,
    "name": "ml.g5.24xlarge",
    "vcpuNum": 96
   },
   {
    "_defaultOrder": 53,
    "_isFastLaunch": false,
    "category": "Accelerated computing",
    "gpuNum": 8,
    "memoryGiB": 768,
    "name": "ml.g5.48xlarge",
    "vcpuNum": 192
   }
  ],
  "instance_type": "ml.t3.medium",
  "kernelspec": {
   "display_name": "Python 3 (Data Science)",
   "language": "python",
   "name": "python3__SAGEMAKER_INTERNAL__arn:aws:sagemaker:us-east-1:081325390199:image/datascience-1.0"
  },
  "language_info": {
   "codemirror_mode": {
    "name": "ipython",
    "version": 3
   },
   "file_extension": ".py",
   "mimetype": "text/x-python",
   "name": "python",
   "nbconvert_exporter": "python",
   "pygments_lexer": "ipython3",
   "version": "3.7.10"
  }
 },
 "nbformat": 4,
 "nbformat_minor": 5
}
