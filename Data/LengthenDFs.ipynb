{
 "cells": [
  {
   "cell_type": "code",
   "execution_count": 1,
   "id": "37c2bdb5-ae41-4c61-82e7-6d23f0a11e81",
   "metadata": {
    "tags": []
   },
   "outputs": [],
   "source": [
    "# Libraries\n",
    "import pandas as pd"
   ]
  },
  {
   "cell_type": "markdown",
   "id": "5505667a-6302-4119-8c92-532ffa66d7f5",
   "metadata": {},
   "source": [
    "# Clean the Datasets\n",
    "## Crops Dataset"
   ]
  },
  {
   "cell_type": "code",
   "execution_count": 2,
   "id": "f9cef74d-864b-4b71-9a1b-effd51f5d53b",
   "metadata": {
    "tags": []
   },
   "outputs": [
    {
     "data": {
      "text/html": [
       "<div>\n",
       "<style scoped>\n",
       "    .dataframe tbody tr th:only-of-type {\n",
       "        vertical-align: middle;\n",
       "    }\n",
       "\n",
       "    .dataframe tbody tr th {\n",
       "        vertical-align: top;\n",
       "    }\n",
       "\n",
       "    .dataframe thead th {\n",
       "        text-align: right;\n",
       "    }\n",
       "</style>\n",
       "<table border=\"1\" class=\"dataframe\">\n",
       "  <thead>\n",
       "    <tr style=\"text-align: right;\">\n",
       "      <th></th>\n",
       "      <th>Area Code</th>\n",
       "      <th>Area Code (M49)</th>\n",
       "      <th>Area</th>\n",
       "      <th>Item Code</th>\n",
       "      <th>Item Code (CPC)</th>\n",
       "      <th>Item</th>\n",
       "      <th>Element Code</th>\n",
       "      <th>Element</th>\n",
       "      <th>Unit</th>\n",
       "      <th>Y1961</th>\n",
       "      <th>...</th>\n",
       "      <th>Y2012</th>\n",
       "      <th>Y2013</th>\n",
       "      <th>Y2014</th>\n",
       "      <th>Y2015</th>\n",
       "      <th>Y2016</th>\n",
       "      <th>Y2017</th>\n",
       "      <th>Y2018</th>\n",
       "      <th>Y2019</th>\n",
       "      <th>Y2020</th>\n",
       "      <th>Y2021</th>\n",
       "    </tr>\n",
       "  </thead>\n",
       "  <tbody>\n",
       "    <tr>\n",
       "      <th>0</th>\n",
       "      <td>2</td>\n",
       "      <td>'004</td>\n",
       "      <td>Afghanistan</td>\n",
       "      <td>221</td>\n",
       "      <td>'01371</td>\n",
       "      <td>Almonds, in shell</td>\n",
       "      <td>5312</td>\n",
       "      <td>Area harvested</td>\n",
       "      <td>ha</td>\n",
       "      <td>NaN</td>\n",
       "      <td>...</td>\n",
       "      <td>13490.0</td>\n",
       "      <td>14114.0</td>\n",
       "      <td>13703.0</td>\n",
       "      <td>14676.0</td>\n",
       "      <td>19481.0</td>\n",
       "      <td>19793.0</td>\n",
       "      <td>20053.0</td>\n",
       "      <td>29203.0</td>\n",
       "      <td>22134.0</td>\n",
       "      <td>21685.00</td>\n",
       "    </tr>\n",
       "    <tr>\n",
       "      <th>1</th>\n",
       "      <td>2</td>\n",
       "      <td>'004</td>\n",
       "      <td>Afghanistan</td>\n",
       "      <td>221</td>\n",
       "      <td>'01371</td>\n",
       "      <td>Almonds, in shell</td>\n",
       "      <td>5419</td>\n",
       "      <td>Yield</td>\n",
       "      <td>hg/ha</td>\n",
       "      <td>NaN</td>\n",
       "      <td>...</td>\n",
       "      <td>45960.0</td>\n",
       "      <td>29910.0</td>\n",
       "      <td>19996.0</td>\n",
       "      <td>16521.0</td>\n",
       "      <td>16859.0</td>\n",
       "      <td>13788.0</td>\n",
       "      <td>17161.0</td>\n",
       "      <td>13083.0</td>\n",
       "      <td>17759.0</td>\n",
       "      <td>18748.00</td>\n",
       "    </tr>\n",
       "    <tr>\n",
       "      <th>2</th>\n",
       "      <td>2</td>\n",
       "      <td>'004</td>\n",
       "      <td>Afghanistan</td>\n",
       "      <td>221</td>\n",
       "      <td>'01371</td>\n",
       "      <td>Almonds, in shell</td>\n",
       "      <td>5510</td>\n",
       "      <td>Production</td>\n",
       "      <td>tonnes</td>\n",
       "      <td>NaN</td>\n",
       "      <td>...</td>\n",
       "      <td>62000.0</td>\n",
       "      <td>42215.0</td>\n",
       "      <td>27400.0</td>\n",
       "      <td>24246.0</td>\n",
       "      <td>32843.0</td>\n",
       "      <td>27291.0</td>\n",
       "      <td>34413.0</td>\n",
       "      <td>38205.0</td>\n",
       "      <td>39307.0</td>\n",
       "      <td>40655.23</td>\n",
       "    </tr>\n",
       "    <tr>\n",
       "      <th>3</th>\n",
       "      <td>2</td>\n",
       "      <td>'004</td>\n",
       "      <td>Afghanistan</td>\n",
       "      <td>711</td>\n",
       "      <td>'01654</td>\n",
       "      <td>Anise, badian, coriander, cumin, caraway, fenn...</td>\n",
       "      <td>5312</td>\n",
       "      <td>Area harvested</td>\n",
       "      <td>ha</td>\n",
       "      <td>NaN</td>\n",
       "      <td>...</td>\n",
       "      <td>18500.0</td>\n",
       "      <td>18500.0</td>\n",
       "      <td>30000.0</td>\n",
       "      <td>25000.0</td>\n",
       "      <td>24500.0</td>\n",
       "      <td>26160.0</td>\n",
       "      <td>25220.0</td>\n",
       "      <td>27387.0</td>\n",
       "      <td>26255.0</td>\n",
       "      <td>26287.00</td>\n",
       "    </tr>\n",
       "    <tr>\n",
       "      <th>4</th>\n",
       "      <td>2</td>\n",
       "      <td>'004</td>\n",
       "      <td>Afghanistan</td>\n",
       "      <td>711</td>\n",
       "      <td>'01654</td>\n",
       "      <td>Anise, badian, coriander, cumin, caraway, fenn...</td>\n",
       "      <td>5419</td>\n",
       "      <td>Yield</td>\n",
       "      <td>hg/ha</td>\n",
       "      <td>NaN</td>\n",
       "      <td>...</td>\n",
       "      <td>6757.0</td>\n",
       "      <td>6757.0</td>\n",
       "      <td>7167.0</td>\n",
       "      <td>7200.0</td>\n",
       "      <td>7075.0</td>\n",
       "      <td>6970.0</td>\n",
       "      <td>7866.0</td>\n",
       "      <td>6902.0</td>\n",
       "      <td>7409.0</td>\n",
       "      <td>7379.00</td>\n",
       "    </tr>\n",
       "  </tbody>\n",
       "</table>\n",
       "<p>5 rows × 70 columns</p>\n",
       "</div>"
      ],
      "text/plain": [
       "   Area Code Area Code (M49)         Area  Item Code Item Code (CPC)  \\\n",
       "0          2            '004  Afghanistan        221          '01371   \n",
       "1          2            '004  Afghanistan        221          '01371   \n",
       "2          2            '004  Afghanistan        221          '01371   \n",
       "3          2            '004  Afghanistan        711          '01654   \n",
       "4          2            '004  Afghanistan        711          '01654   \n",
       "\n",
       "                                                Item  Element Code  \\\n",
       "0                                  Almonds, in shell          5312   \n",
       "1                                  Almonds, in shell          5419   \n",
       "2                                  Almonds, in shell          5510   \n",
       "3  Anise, badian, coriander, cumin, caraway, fenn...          5312   \n",
       "4  Anise, badian, coriander, cumin, caraway, fenn...          5419   \n",
       "\n",
       "          Element    Unit  Y1961  ...    Y2012    Y2013    Y2014    Y2015  \\\n",
       "0  Area harvested      ha    NaN  ...  13490.0  14114.0  13703.0  14676.0   \n",
       "1           Yield   hg/ha    NaN  ...  45960.0  29910.0  19996.0  16521.0   \n",
       "2      Production  tonnes    NaN  ...  62000.0  42215.0  27400.0  24246.0   \n",
       "3  Area harvested      ha    NaN  ...  18500.0  18500.0  30000.0  25000.0   \n",
       "4           Yield   hg/ha    NaN  ...   6757.0   6757.0   7167.0   7200.0   \n",
       "\n",
       "     Y2016    Y2017    Y2018    Y2019    Y2020     Y2021  \n",
       "0  19481.0  19793.0  20053.0  29203.0  22134.0  21685.00  \n",
       "1  16859.0  13788.0  17161.0  13083.0  17759.0  18748.00  \n",
       "2  32843.0  27291.0  34413.0  38205.0  39307.0  40655.23  \n",
       "3  24500.0  26160.0  25220.0  27387.0  26255.0  26287.00  \n",
       "4   7075.0   6970.0   7866.0   6902.0   7409.0   7379.00  \n",
       "\n",
       "[5 rows x 70 columns]"
      ]
     },
     "execution_count": 2,
     "metadata": {},
     "output_type": "execute_result"
    }
   ],
   "source": [
    "crops = pd.read_csv('Crops.csv')\n",
    "crops.head()"
   ]
  },
  {
   "cell_type": "markdown",
   "id": "74b24525-e2c4-4f64-9707-2468624287ba",
   "metadata": {},
   "source": [
    "### Pivot df to long format"
   ]
  },
  {
   "cell_type": "code",
   "execution_count": null,
   "id": "52c38219-11e6-4e26-8a6e-47f24e998175",
   "metadata": {
    "tags": []
   },
   "outputs": [],
   "source": [
    "# Need to get years to be in rows\n",
    "years_list = crops.iloc[: ,9:70].columns.values.tolist()\n",
    "\n",
    "# Melt to get rows\n",
    "crops_long = pd.melt(crops, id_vars = ['Area', 'Item', 'Element', 'Unit'], \n",
    "                      value_vars = years_list)\n",
    "crops_long.head()\n",
    "crops_long.to_csv()"
   ]
  },
  {
   "cell_type": "markdown",
   "id": "4f2e0d94-0971-4ed7-9da9-a23a895b4d6e",
   "metadata": {},
   "source": [
    "## Fertilizer\n",
    "### We'll keep doing the same pivoting method"
   ]
  },
  {
   "cell_type": "code",
   "execution_count": null,
   "id": "4d9a1d1f-a3c5-46fb-bec2-52c1923ad865",
   "metadata": {
    "tags": []
   },
   "outputs": [],
   "source": [
    "fert = pd.read_csv('Fertilizer.csv')\n",
    "fert.head()\n",
    "\n",
    "# Need to get years to be in rows\n",
    "years_list = fert.iloc[: ,9:70].columns.values.tolist()\n",
    "\n",
    "# Melt to get rows\n",
    "fert_long= pd.melt(fert, id_vars = ['Area', 'Item', 'Element', 'Unit'], \n",
    "                      value_vars = years_list)\n",
    "fert.head()\n",
    "fert_long.to_csv()"
   ]
  },
  {
   "cell_type": "markdown",
   "id": "08cd4a5b-8445-4581-b6e4-d520f995bc2b",
   "metadata": {},
   "source": [
    "## Misc. Country Metrics"
   ]
  },
  {
   "cell_type": "code",
   "execution_count": null,
   "id": "f4b11007-bdb5-4237-9458-5ac444105188",
   "metadata": {
    "tags": []
   },
   "outputs": [],
   "source": [
    "misc = pd.read_csv('MiscCountryMetrics.csv')\n",
    "misc.head()\n",
    "\n",
    "# Slightly different cols\n",
    "years_list = misc.iloc[: ,4:96].columns.values.tolist()\n",
    "\n",
    "# Melt to get rows\n",
    "misc_long = pd.melt(misc, id_vars = ['Country Name', 'Indicator Name'], \n",
    "                      value_vars = years_list)\n",
    "misc.head()\n",
    "misc_long.to_csv()"
   ]
  },
  {
   "cell_type": "markdown",
   "id": "46350dac-2b53-4e83-a73c-3a170072926d",
   "metadata": {},
   "source": [
    "## Prices"
   ]
  },
  {
   "cell_type": "code",
   "execution_count": null,
   "id": "81f04e1e-e79d-477f-9394-619f19ebe0ad",
   "metadata": {
    "tags": []
   },
   "outputs": [],
   "source": [
    "prices = pd.read_csv('Prices.csv')\n",
    "prices.head(5)\n",
    "\n",
    "# More different cols\n",
    "years_list = prices.iloc[:, 11:75].columns.values.tolist()\n",
    "\n",
    "# Melt to get rows\n",
    "prices_long = pd.melt(prices, id_vars = ['Area', 'Item', 'Element', 'Months'], \n",
    "                      value_vars = years_list)\n",
    "prices.head()\n",
    "prices_long.to_csv()"
   ]
  }
 ],
 "metadata": {
  "availableInstances": [
   {
    "_defaultOrder": 0,
    "_isFastLaunch": true,
    "category": "General purpose",
    "gpuNum": 0,
    "memoryGiB": 4,
    "name": "ml.t3.medium",
    "vcpuNum": 2
   },
   {
    "_defaultOrder": 1,
    "_isFastLaunch": false,
    "category": "General purpose",
    "gpuNum": 0,
    "memoryGiB": 8,
    "name": "ml.t3.large",
    "vcpuNum": 2
   },
   {
    "_defaultOrder": 2,
    "_isFastLaunch": false,
    "category": "General purpose",
    "gpuNum": 0,
    "memoryGiB": 16,
    "name": "ml.t3.xlarge",
    "vcpuNum": 4
   },
   {
    "_defaultOrder": 3,
    "_isFastLaunch": false,
    "category": "General purpose",
    "gpuNum": 0,
    "memoryGiB": 32,
    "name": "ml.t3.2xlarge",
    "vcpuNum": 8
   },
   {
    "_defaultOrder": 4,
    "_isFastLaunch": true,
    "category": "General purpose",
    "gpuNum": 0,
    "memoryGiB": 8,
    "name": "ml.m5.large",
    "vcpuNum": 2
   },
   {
    "_defaultOrder": 5,
    "_isFastLaunch": false,
    "category": "General purpose",
    "gpuNum": 0,
    "memoryGiB": 16,
    "name": "ml.m5.xlarge",
    "vcpuNum": 4
   },
   {
    "_defaultOrder": 6,
    "_isFastLaunch": false,
    "category": "General purpose",
    "gpuNum": 0,
    "memoryGiB": 32,
    "name": "ml.m5.2xlarge",
    "vcpuNum": 8
   },
   {
    "_defaultOrder": 7,
    "_isFastLaunch": false,
    "category": "General purpose",
    "gpuNum": 0,
    "memoryGiB": 64,
    "name": "ml.m5.4xlarge",
    "vcpuNum": 16
   },
   {
    "_defaultOrder": 8,
    "_isFastLaunch": false,
    "category": "General purpose",
    "gpuNum": 0,
    "memoryGiB": 128,
    "name": "ml.m5.8xlarge",
    "vcpuNum": 32
   },
   {
    "_defaultOrder": 9,
    "_isFastLaunch": false,
    "category": "General purpose",
    "gpuNum": 0,
    "memoryGiB": 192,
    "name": "ml.m5.12xlarge",
    "vcpuNum": 48
   },
   {
    "_defaultOrder": 10,
    "_isFastLaunch": false,
    "category": "General purpose",
    "gpuNum": 0,
    "memoryGiB": 256,
    "name": "ml.m5.16xlarge",
    "vcpuNum": 64
   },
   {
    "_defaultOrder": 11,
    "_isFastLaunch": false,
    "category": "General purpose",
    "gpuNum": 0,
    "memoryGiB": 384,
    "name": "ml.m5.24xlarge",
    "vcpuNum": 96
   },
   {
    "_defaultOrder": 12,
    "_isFastLaunch": false,
    "category": "General purpose",
    "gpuNum": 0,
    "memoryGiB": 8,
    "name": "ml.m5d.large",
    "vcpuNum": 2
   },
   {
    "_defaultOrder": 13,
    "_isFastLaunch": false,
    "category": "General purpose",
    "gpuNum": 0,
    "memoryGiB": 16,
    "name": "ml.m5d.xlarge",
    "vcpuNum": 4
   },
   {
    "_defaultOrder": 14,
    "_isFastLaunch": false,
    "category": "General purpose",
    "gpuNum": 0,
    "memoryGiB": 32,
    "name": "ml.m5d.2xlarge",
    "vcpuNum": 8
   },
   {
    "_defaultOrder": 15,
    "_isFastLaunch": false,
    "category": "General purpose",
    "gpuNum": 0,
    "memoryGiB": 64,
    "name": "ml.m5d.4xlarge",
    "vcpuNum": 16
   },
   {
    "_defaultOrder": 16,
    "_isFastLaunch": false,
    "category": "General purpose",
    "gpuNum": 0,
    "memoryGiB": 128,
    "name": "ml.m5d.8xlarge",
    "vcpuNum": 32
   },
   {
    "_defaultOrder": 17,
    "_isFastLaunch": false,
    "category": "General purpose",
    "gpuNum": 0,
    "memoryGiB": 192,
    "name": "ml.m5d.12xlarge",
    "vcpuNum": 48
   },
   {
    "_defaultOrder": 18,
    "_isFastLaunch": false,
    "category": "General purpose",
    "gpuNum": 0,
    "memoryGiB": 256,
    "name": "ml.m5d.16xlarge",
    "vcpuNum": 64
   },
   {
    "_defaultOrder": 19,
    "_isFastLaunch": false,
    "category": "General purpose",
    "gpuNum": 0,
    "memoryGiB": 384,
    "name": "ml.m5d.24xlarge",
    "vcpuNum": 96
   },
   {
    "_defaultOrder": 20,
    "_isFastLaunch": true,
    "category": "Compute optimized",
    "gpuNum": 0,
    "memoryGiB": 4,
    "name": "ml.c5.large",
    "vcpuNum": 2
   },
   {
    "_defaultOrder": 21,
    "_isFastLaunch": false,
    "category": "Compute optimized",
    "gpuNum": 0,
    "memoryGiB": 8,
    "name": "ml.c5.xlarge",
    "vcpuNum": 4
   },
   {
    "_defaultOrder": 22,
    "_isFastLaunch": false,
    "category": "Compute optimized",
    "gpuNum": 0,
    "memoryGiB": 16,
    "name": "ml.c5.2xlarge",
    "vcpuNum": 8
   },
   {
    "_defaultOrder": 23,
    "_isFastLaunch": false,
    "category": "Compute optimized",
    "gpuNum": 0,
    "memoryGiB": 32,
    "name": "ml.c5.4xlarge",
    "vcpuNum": 16
   },
   {
    "_defaultOrder": 24,
    "_isFastLaunch": false,
    "category": "Compute optimized",
    "gpuNum": 0,
    "memoryGiB": 72,
    "name": "ml.c5.9xlarge",
    "vcpuNum": 36
   },
   {
    "_defaultOrder": 25,
    "_isFastLaunch": false,
    "category": "Compute optimized",
    "gpuNum": 0,
    "memoryGiB": 96,
    "name": "ml.c5.12xlarge",
    "vcpuNum": 48
   },
   {
    "_defaultOrder": 26,
    "_isFastLaunch": false,
    "category": "Compute optimized",
    "gpuNum": 0,
    "memoryGiB": 144,
    "name": "ml.c5.18xlarge",
    "vcpuNum": 72
   },
   {
    "_defaultOrder": 27,
    "_isFastLaunch": false,
    "category": "Compute optimized",
    "gpuNum": 0,
    "memoryGiB": 192,
    "name": "ml.c5.24xlarge",
    "vcpuNum": 96
   },
   {
    "_defaultOrder": 28,
    "_isFastLaunch": true,
    "category": "Accelerated computing",
    "gpuNum": 1,
    "memoryGiB": 16,
    "name": "ml.g4dn.xlarge",
    "vcpuNum": 4
   },
   {
    "_defaultOrder": 29,
    "_isFastLaunch": false,
    "category": "Accelerated computing",
    "gpuNum": 1,
    "memoryGiB": 32,
    "name": "ml.g4dn.2xlarge",
    "vcpuNum": 8
   },
   {
    "_defaultOrder": 30,
    "_isFastLaunch": false,
    "category": "Accelerated computing",
    "gpuNum": 1,
    "memoryGiB": 64,
    "name": "ml.g4dn.4xlarge",
    "vcpuNum": 16
   },
   {
    "_defaultOrder": 31,
    "_isFastLaunch": false,
    "category": "Accelerated computing",
    "gpuNum": 1,
    "memoryGiB": 128,
    "name": "ml.g4dn.8xlarge",
    "vcpuNum": 32
   },
   {
    "_defaultOrder": 32,
    "_isFastLaunch": false,
    "category": "Accelerated computing",
    "gpuNum": 4,
    "memoryGiB": 192,
    "name": "ml.g4dn.12xlarge",
    "vcpuNum": 48
   },
   {
    "_defaultOrder": 33,
    "_isFastLaunch": false,
    "category": "Accelerated computing",
    "gpuNum": 1,
    "memoryGiB": 256,
    "name": "ml.g4dn.16xlarge",
    "vcpuNum": 64
   },
   {
    "_defaultOrder": 34,
    "_isFastLaunch": false,
    "category": "Accelerated computing",
    "gpuNum": 1,
    "memoryGiB": 61,
    "name": "ml.p3.2xlarge",
    "vcpuNum": 8
   },
   {
    "_defaultOrder": 35,
    "_isFastLaunch": false,
    "category": "Accelerated computing",
    "gpuNum": 4,
    "memoryGiB": 244,
    "name": "ml.p3.8xlarge",
    "vcpuNum": 32
   },
   {
    "_defaultOrder": 36,
    "_isFastLaunch": false,
    "category": "Accelerated computing",
    "gpuNum": 8,
    "memoryGiB": 488,
    "name": "ml.p3.16xlarge",
    "vcpuNum": 64
   },
   {
    "_defaultOrder": 37,
    "_isFastLaunch": false,
    "category": "Accelerated computing",
    "gpuNum": 8,
    "memoryGiB": 768,
    "name": "ml.p3dn.24xlarge",
    "vcpuNum": 96
   },
   {
    "_defaultOrder": 38,
    "_isFastLaunch": false,
    "category": "Memory Optimized",
    "gpuNum": 0,
    "memoryGiB": 16,
    "name": "ml.r5.large",
    "vcpuNum": 2
   },
   {
    "_defaultOrder": 39,
    "_isFastLaunch": false,
    "category": "Memory Optimized",
    "gpuNum": 0,
    "memoryGiB": 32,
    "name": "ml.r5.xlarge",
    "vcpuNum": 4
   },
   {
    "_defaultOrder": 40,
    "_isFastLaunch": false,
    "category": "Memory Optimized",
    "gpuNum": 0,
    "memoryGiB": 64,
    "name": "ml.r5.2xlarge",
    "vcpuNum": 8
   },
   {
    "_defaultOrder": 41,
    "_isFastLaunch": false,
    "category": "Memory Optimized",
    "gpuNum": 0,
    "memoryGiB": 128,
    "name": "ml.r5.4xlarge",
    "vcpuNum": 16
   },
   {
    "_defaultOrder": 42,
    "_isFastLaunch": false,
    "category": "Memory Optimized",
    "gpuNum": 0,
    "memoryGiB": 256,
    "name": "ml.r5.8xlarge",
    "vcpuNum": 32
   },
   {
    "_defaultOrder": 43,
    "_isFastLaunch": false,
    "category": "Memory Optimized",
    "gpuNum": 0,
    "memoryGiB": 384,
    "name": "ml.r5.12xlarge",
    "vcpuNum": 48
   },
   {
    "_defaultOrder": 44,
    "_isFastLaunch": false,
    "category": "Memory Optimized",
    "gpuNum": 0,
    "memoryGiB": 512,
    "name": "ml.r5.16xlarge",
    "vcpuNum": 64
   },
   {
    "_defaultOrder": 45,
    "_isFastLaunch": false,
    "category": "Memory Optimized",
    "gpuNum": 0,
    "memoryGiB": 768,
    "name": "ml.r5.24xlarge",
    "vcpuNum": 96
   },
   {
    "_defaultOrder": 46,
    "_isFastLaunch": false,
    "category": "Accelerated computing",
    "gpuNum": 1,
    "memoryGiB": 16,
    "name": "ml.g5.xlarge",
    "vcpuNum": 4
   },
   {
    "_defaultOrder": 47,
    "_isFastLaunch": false,
    "category": "Accelerated computing",
    "gpuNum": 1,
    "memoryGiB": 32,
    "name": "ml.g5.2xlarge",
    "vcpuNum": 8
   },
   {
    "_defaultOrder": 48,
    "_isFastLaunch": false,
    "category": "Accelerated computing",
    "gpuNum": 1,
    "memoryGiB": 64,
    "name": "ml.g5.4xlarge",
    "vcpuNum": 16
   },
   {
    "_defaultOrder": 49,
    "_isFastLaunch": false,
    "category": "Accelerated computing",
    "gpuNum": 1,
    "memoryGiB": 128,
    "name": "ml.g5.8xlarge",
    "vcpuNum": 32
   },
   {
    "_defaultOrder": 50,
    "_isFastLaunch": false,
    "category": "Accelerated computing",
    "gpuNum": 1,
    "memoryGiB": 256,
    "name": "ml.g5.16xlarge",
    "vcpuNum": 64
   },
   {
    "_defaultOrder": 51,
    "_isFastLaunch": false,
    "category": "Accelerated computing",
    "gpuNum": 4,
    "memoryGiB": 192,
    "name": "ml.g5.12xlarge",
    "vcpuNum": 48
   },
   {
    "_defaultOrder": 52,
    "_isFastLaunch": false,
    "category": "Accelerated computing",
    "gpuNum": 4,
    "memoryGiB": 384,
    "name": "ml.g5.24xlarge",
    "vcpuNum": 96
   },
   {
    "_defaultOrder": 53,
    "_isFastLaunch": false,
    "category": "Accelerated computing",
    "gpuNum": 8,
    "memoryGiB": 768,
    "name": "ml.g5.48xlarge",
    "vcpuNum": 192
   }
  ],
  "instance_type": "ml.t3.medium",
  "kernelspec": {
   "display_name": "Python 3 (Data Science)",
   "language": "python",
   "name": "python3__SAGEMAKER_INTERNAL__arn:aws:sagemaker:us-east-1:081325390199:image/datascience-1.0"
  },
  "language_info": {
   "codemirror_mode": {
    "name": "ipython",
    "version": 3
   },
   "file_extension": ".py",
   "mimetype": "text/x-python",
   "name": "python",
   "nbconvert_exporter": "python",
   "pygments_lexer": "ipython3",
   "version": "3.7.10"
  }
 },
 "nbformat": 4,
 "nbformat_minor": 5
}
